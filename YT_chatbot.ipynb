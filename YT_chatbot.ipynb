{
 "cells": [
  {
   "cell_type": "code",
   "execution_count": null,
   "id": "39a669ca",
   "metadata": {},
   "outputs": [],
   "source": [
    "import os\n",
    "from youtube_transcript_api import YouTubeTranscriptApi, TranscriptsDisabled\n",
    "from langchain.text_splitter import RecursiveCharacterTextSplitter\n",
    "from langchain_huggingface import HuggingFaceEmbeddings, HuggingFaceEndpoint, ChatHuggingFace\n",
    "from langchain_community.vectorstores import FAISS\n",
    "from langchain_core.prompts import PromptTemplate\n",
    "from langchain_core.runnables import RunnableParallel, RunnablePassthrough, RunnableLambda\n",
    "from langchain_core.output_parsers import StrOutputParser\n",
    "from urllib.parse import urlparse, parse_qs\n"
   ]
  },
  {
   "cell_type": "code",
   "execution_count": null,
   "id": "64d2c5fe",
   "metadata": {},
   "outputs": [],
   "source": [
    "os.environ[\"HUGGINGFACEHUB_API_TOKEN\"] = \"your_hf_key\""
   ]
  },
  {
   "cell_type": "code",
   "execution_count": 4,
   "id": "feeb8463",
   "metadata": {},
   "outputs": [],
   "source": [
    "def get_youtube_video_id(url: str) -> str:\n",
    "    \"\"\"\n",
    "    Extract the video ID from a YouTube URL.\n",
    "    Works for standard, short, and URLs with extra parameters.\n",
    "    \"\"\"\n",
    "    parsed_url = urlparse(url)\n",
    "\n",
    "    # Case 1: Standard URL (https://www.youtube.com/watch?v=VIDEO_ID)\n",
    "    if parsed_url.hostname in [\"www.youtube.com\", \"youtube.com\"]:\n",
    "        query_params = parse_qs(parsed_url.query)\n",
    "        return query_params.get(\"v\", [None])[0]\n",
    "\n",
    "    # Case 2: Short URL (https://youtu.be/VIDEO_ID)\n",
    "    elif parsed_url.hostname in [\"youtu.be\"]:\n",
    "        return parsed_url.path.lstrip(\"/\")\n",
    "\n",
    "    return None\n"
   ]
  },
  {
   "cell_type": "code",
   "execution_count": 8,
   "id": "517953ff",
   "metadata": {},
   "outputs": [
    {
     "name": "stdout",
     "output_type": "stream",
     "text": [
      "Video ID: TrExLi4Rbqo\n"
     ]
    }
   ],
   "source": [
    "url = \"https://youtu.be/TrExLi4Rbqo\"\n",
    "\n",
    "video_id = get_youtube_video_id(url)\n",
    "\n",
    "print(\"Video ID:\", video_id)"
   ]
  },
  {
   "cell_type": "code",
   "execution_count": 9,
   "id": "c67e2e66",
   "metadata": {},
   "outputs": [],
   "source": [
    "ytt_api = YouTubeTranscriptApi()\n",
    "fetched_transcript = ytt_api.fetch(video_id,languages=[\"en\"])\n"
   ]
  },
  {
   "cell_type": "code",
   "execution_count": 10,
   "id": "a6e4b680",
   "metadata": {},
   "outputs": [
    {
     "data": {
      "text/plain": [
       "FetchedTranscript(snippets=[FetchedTranscriptSnippet(text=\"is India's history just a story of the past or\\xa0\\nis it the key to understanding one of the world's\\xa0\\xa0\", start=4.0, duration=5.6), FetchedTranscriptSnippet(text='greatest and most enduring civilizations journey\\xa0\\nwith us through thousands of years of remarkable\\xa0\\xa0', start=9.6, duration=5.76), FetchedTranscriptSnippet(text='diversity and unity revolutionary ideas and\\xa0\\nimperial power struggles for freedom and modern\\xa0\\xa0', start=15.36, duration=5.92), FetchedTranscriptSnippet(text=\"aspirations what makes India's story so unique and\\xa0\\nhow does this ancient legacy shape our present and\\xa0\\xa0\", start=21.28, duration=6.72), FetchedTranscriptSnippet(text='future india is not just a country it is a vast\\xa0\\nliving tapestry woven from thousands of years\\xa0\\xa0', start=28.0, duration=6.0), FetchedTranscriptSnippet(text='of human experience from the snowcapped Himalayas\\xa0\\nin the north to the tropical shores of the Indian\\xa0\\xa0', start=34.0, duration=5.92), FetchedTranscriptSnippet(text=\"Ocean in the south the Indian subcontinent\\xa0\\nhas been home to some of the world's oldest\\xa0\\xa0\", start=39.92, duration=4.88), FetchedTranscriptSnippet(text='and most influential civilizations its story is\\xa0\\none of extraordinary depth and diversity marked\\xa0\\xa0', start=44.8, duration=7.04), FetchedTranscriptSnippet(text='by spiritual discovery imperial grandeur foreign\\xa0\\ninvasions cultural synthesis and revolutionary\\xa0\\xa0', start=51.84, duration=6.08), FetchedTranscriptSnippet(text='resistance geographically varied and culturally\\xa0\\nrich India has nurtured a multitude of languages\\xa0\\xa0', start=57.92, duration=5.84), FetchedTranscriptSnippet(text='faiths philosophies and social systems it is the\\xa0\\nbirthplace of major world religions like Hinduism\\xa0\\xa0', start=63.76, duration=6.96), FetchedTranscriptSnippet(text='Buddhism Jaenism and Sikism and a historic\\xa0\\nmeeting ground for Islam Christianity Judaism and\\xa0\\xa0', start=70.72, duration=6.72), FetchedTranscriptSnippet(text='Zoroastrianism this unique confluence has shaped\\xa0\\na society both diverse and resilient capable\\xa0\\xa0', start=77.44, duration=7.04), FetchedTranscriptSnippet(text='of remarkable continuity even amid constant\\xa0\\ntransformation in this documentary we explore\\xa0\\xa0', start=84.48, duration=4.8), FetchedTranscriptSnippet(text='the major chapters of Indian history from ancient\\xa0\\ncivilizations and classical empires to colonial\\xa0\\xa0', start=89.28, duration=5.84), FetchedTranscriptSnippet(text='subjugation the struggle for independence and the\\xa0\\nchallenges and triumphs of a modern democratic\\xa0\\xa0', start=95.12, duration=5.84), FetchedTranscriptSnippet(text='nation each era offers its own insight into the\\xa0\\nenduring spirit of India long before the rise of\\xa0\\xa0', start=100.96, duration=6.48), FetchedTranscriptSnippet(text=\"empires and dynasties the Indian subcontinent\\xa0\\nwas home to one of the world's first great\\xa0\\xa0\", start=107.44, duration=4.8), FetchedTranscriptSnippet(text='urban civilizations the Indis Valley civilization\\xa0\\nc 2600 to900 B.CE flourishing across parts of\\xa0\\xa0', start=112.24, duration=10.0), FetchedTranscriptSnippet(text='modern-day Pakistan and northwestern India\\xa0\\nit spanned over 1,000 settlements with major\\xa0\\xa0', start=122.24, duration=6.24), FetchedTranscriptSnippet(text='urban centers like Harappa Mohenjo Daro and Dolera\\xa0\\nstanding out as remarkable examples of early city\\xa0\\xa0', start=128.48, duration=6.56), FetchedTranscriptSnippet(text='planning and architectural sophistication\\xa0\\nthese cities were marvel of engineering\\xa0\\xa0', start=135.04, duration=5.28), FetchedTranscriptSnippet(text='streets were laid out in precise grids homes were\\xa0\\nequipped with private wells and bathrooms and a\\xa0\\xa0', start=140.32, duration=5.36), FetchedTranscriptSnippet(text='vast underground drainage system carried waste\\xa0\\naway technology unrivaled in the ancient world\\xa0\\xa0', start=145.68, duration=6.24), FetchedTranscriptSnippet(text='graneries dockyards and public baths reflected\\xa0\\nnot only architectural prowess but also a\\xa0\\xa0', start=151.92, duration=5.52), FetchedTranscriptSnippet(text='strong administrative structure the uniformity in\\xa0\\nbrick sizes and town layouts suggest centralized\\xa0\\xa0', start=157.44, duration=6.32), FetchedTranscriptSnippet(text='planning and control possibly by a ruling elite or\\xa0\\ncouncil the economy was based on agriculture craft\\xa0\\xa0', start=163.76, duration=5.92), FetchedTranscriptSnippet(text='production and extensive trade networks seals\\xa0\\nbearing animal motifs and a still undeciphered\\xa0\\xa0', start=169.68, duration=5.68), FetchedTranscriptSnippet(text='script point to commercial and possibly religious\\xa0\\nactivities goods such as beads ivory and ceramics\\xa0\\xa0', start=175.36, duration=7.2), FetchedTranscriptSnippet(text='were traded with Mesopotamia and other distant\\xa0\\nregions indicating a robust international\\xa0\\xa0', start=182.56, duration=5.12), FetchedTranscriptSnippet(text='exchange system yet despite its achievements the\\xa0\\nIndis Valley civilization mysteriously declined\\xa0\\xa0', start=187.68, duration=6.0), FetchedTranscriptSnippet(text='around 1900 B.CE scholars have debated the causes\\xa0\\nclimate change river shifts tectonic activity and\\xa0\\xa0', start=193.68, duration=7.92), FetchedTranscriptSnippet(text='the Aryan migration or invasion theory each\\xa0\\nremains plausible but unproven the lack of\\xa0\\xa0', start=201.6, duration=6.08), FetchedTranscriptSnippet(text='monumental palaces or identifiable royal graves\\xa0\\nalso puzzles historians as does the complete\\xa0\\xa0', start=207.68, duration=5.84), FetchedTranscriptSnippet(text='disappearance of its written language following\\xa0\\nthe decline of the Indis Valley civilization a new\\xa0\\xa0', start=213.52, duration=5.76), FetchedTranscriptSnippet(text='era began with the arrival and settlement of\\xa0\\nthe Indo-Aryans around 1500 B.CE whether these\\xa0\\xa0', start=219.28, duration=6.4), FetchedTranscriptSnippet(text='groups migrated peacefully into the subcontinent\\xa0\\nor arrived as part of an invasion remains debated\\xa0\\xa0', start=225.68, duration=6.64), FetchedTranscriptSnippet(text='this Aryan migration invasion theory is one of\\xa0\\nthe most contested topics in South Asian history\\xa0\\xa0', start=232.32, duration=6.48), FetchedTranscriptSnippet(text='genetic linguistic and archaeological evidence\\xa0\\ncontinues to be interpreted in varying ways the\\xa0\\xa0', start=238.8, duration=5.36), FetchedTranscriptSnippet(text='early Indo-Arans brought with them Sanskrit\\xa0\\na rich oral tradition and a series of texts\\xa0\\xa0', start=244.16, duration=5.36), FetchedTranscriptSnippet(text='known as the Vedas the Rigveda the oldest of these\\xa0\\noffers a glimpse into a society organized around\\xa0\\xa0', start=249.52, duration=7.28), FetchedTranscriptSnippet(text='pastoral life sacrificial rituals Yajinas and\\xa0\\nthe worship of natural elements like fire Agni\\xa0\\xa0', start=256.8, duration=7.84), FetchedTranscriptSnippet(text='the sea Surya and the sky god Indra these texts\\xa0\\nform the philosophical and religious backbone of\\xa0\\xa0', start=264.64, duration=7.36), FetchedTranscriptSnippet(text='what would eventually evolve into Hinduism during\\xa0\\nthis vadic age c or 1500 600 B.CE TE society was\\xa0\\xa0', start=272.0, duration=7.92), FetchedTranscriptSnippet(text='organized into varnnas social classes brahmans\\xa0\\npriests kchatras warriors vishas merchants and\\xa0\\xa0', start=279.92, duration=8.48), FetchedTranscriptSnippet(text='sudras laborers over time this system became more\\xa0\\nrigid and stratified into jatis casts forming a\\xa0\\xa0', start=288.4, duration=7.52), FetchedTranscriptSnippet(text='complex and enduring social hierarchy by the later\\xa0\\nvadic period there was a transition from tribal\\xa0\\xa0', start=295.92, duration=5.68), FetchedTranscriptSnippet(text='chieftdoms to kingdoms mahajanapatas and rituals\\xa0\\ngrew more elaborate texts like the upupananishads\\xa0\\xa0', start=301.6, duration=6.8), FetchedTranscriptSnippet(text='emerged emphasizing internal reflection karma\\xa0\\ndharma and mokia liberation these philosophical\\xa0\\xa0', start=308.4, duration=7.36), FetchedTranscriptSnippet(text='concepts became central to classical Hindu\\xa0\\nthought the Vadic religion gradually morphed\\xa0\\xa0', start=315.76, duration=4.8), FetchedTranscriptSnippet(text='into classical Hinduism a broad and inclusive\\xa0\\nsystem of beliefs rituals and practices it\\xa0\\xa0', start=320.56, duration=6.24), FetchedTranscriptSnippet(text='absorbed local deities embraced diverse paths to\\xa0\\nsalvation devotion knowledge action and supported\\xa0\\xa0', start=326.8, duration=6.56), FetchedTranscriptSnippet(text=\"a polyentric worldview hinduism's ability to\\xa0\\nevolve while maintaining continuity with its\\xa0\\xa0\", start=333.36, duration=5.76), FetchedTranscriptSnippet(text='Vadic roots remains one of its defining features\\xa0\\nby the 6th century BCE dissatisfaction with\\xa0\\xa0', start=339.12, duration=6.32), FetchedTranscriptSnippet(text='Vadic ritualism and cast hierarchies led to the\\xa0\\nemergence of new spiritual movements among them\\xa0\\xa0', start=345.44, duration=6.32), FetchedTranscriptSnippet(text='Janism and Buddhism stood out for their radical\\xa0\\ndepartures from the Vadic norm janism founded by\\xa0\\xa0', start=351.76, duration=5.92), FetchedTranscriptSnippet(text='Mahaviraa 5chi 999 to 527 B.CE CE emphasized aimsa\\xa0\\nnonviolence aestheticism and self-discipline as\\xa0\\xa0', start=357.68, duration=11.36), FetchedTranscriptSnippet(text='the path to spiritual liberation jane philosophy\\xa0\\nteaches that every soul is potentially divine\\xa0\\xa0', start=369.04, duration=6.0), FetchedTranscriptSnippet(text='but bound by karma which must be shed through\\xa0\\nethical living renunciation and truthfulness\\xa0\\xa0', start=375.04, duration=6.64), FetchedTranscriptSnippet(text='jane monks and nuns followed extreme forms of\\xa0\\nausterity while lay followers maintained ethical\\xa0\\xa0', start=381.68, duration=5.68), FetchedTranscriptSnippet(text='living and supported the monastic community janism\\xa0\\nrejected the authority of the vadas and the cast\\xa0\\xa0', start=387.36, duration=5.84), FetchedTranscriptSnippet(text='system emphasizing individual responsibility and\\xa0\\ninner purity buddhism founded by Sedartha Gautama\\xa0\\xa0', start=393.2, duration=7.36), FetchedTranscriptSnippet(text='known as the Buddha c 563483 B.CE also rejected\\xa0\\nVadic Orthodoxy born a prince in modern-day\\xa0\\xa0', start=400.56, duration=9.28), FetchedTranscriptSnippet(text='Nepal Sedartha renounced royal life in search of\\xa0\\ntruth and enlightenment after intense meditation\\xa0\\xa0', start=409.84, duration=6.88), FetchedTranscriptSnippet(text='he attained Nirvana and began teaching the four\\xa0\\nnoble truths and the eight-fold path a practical\\xa0\\xa0', start=416.72, duration=5.68), FetchedTranscriptSnippet(text=\"guide to end suffering and attain liberation\\xa0\\nbuddhism's egalitarian ethics simplicity and\\xa0\\xa0\", start=422.4, duration=5.92), FetchedTranscriptSnippet(text='monastic institutions attracted followers across\\xa0\\nsocial classes it was patronized by Emperor Ashoka\\xa0\\xa0', start=428.32, duration=6.64), FetchedTranscriptSnippet(text='of the Maria Empire 3rd century B.CE CE who\\xa0\\nhelped spread the religion across Asia from\\xa0\\xa0', start=434.96, duration=6.24), FetchedTranscriptSnippet(text='Sri Lanka to China Korea and Japan through\\xa0\\nmissionaries and inscriptions while Janism\\xa0\\xa0', start=441.2, duration=6.56), FetchedTranscriptSnippet(text='remained influential primarily in western India\\xa0\\nBuddhism declined in the subcontinent by the 10th\\xa0\\xa0', start=447.76, duration=5.52), FetchedTranscriptSnippet(text='century CE partly due to the revival of devotional\\xa0\\nHinduism and the decline of monastic institutions\\xa0\\xa0', start=453.28, duration=6.0), FetchedTranscriptSnippet(text='after invasions however it continued to thrive in\\xa0\\nEast and Southeast Asia these traditions although\\xa0\\xa0', start=459.28, duration=6.32), FetchedTranscriptSnippet(text='numerically smaller today played a critical\\xa0\\nrole in shaping Indian ethical thought art and\\xa0\\xa0', start=465.6, duration=5.04), FetchedTranscriptSnippet(text='religious pluralism their emphasis on non-violence\\xa0\\nintrospection and compassion continues to resonate\\xa0\\xa0', start=470.64, duration=6.16), FetchedTranscriptSnippet(text='in India and across the globe the Moria Empire\\xa0\\nmarks the first large-scale political unification\\xa0\\xa0', start=476.8, duration=5.6), FetchedTranscriptSnippet(text='of much of the Indian subcontinent setting a\\xa0\\nfoundation for imperial governance and cultural\\xa0\\xa0', start=482.4, duration=5.12), FetchedTranscriptSnippet(text='integration founded by Chandra Gupta Murya around\\xa0\\n321 B.CE CE the empire expanded rapidly conquering\\xa0\\xa0', start=487.52, duration=8.48), FetchedTranscriptSnippet(text=\"the fragmented kingdoms left in the wake of\\xa0\\nAlexander the Great's retreat from northwest India\\xa0\\xa0\", start=496.0, duration=5.04), FetchedTranscriptSnippet(text=\"chandra Gupta's reign established a centralized\\xa0\\nadministration based on a complex bureaucracy and\\xa0\\xa0\", start=501.04, duration=5.2), FetchedTranscriptSnippet(text='an extensive spy network described vividly in the\\xa0\\nArthur Shastra attributed to his adviser Coutilia\\xa0\\xa0', start=506.24, duration=6.96), FetchedTranscriptSnippet(text='Chanakia this treatis laid out guidelines for\\xa0\\nstate craft economic policies military strategy\\xa0\\xa0', start=513.2, duration=6.88), FetchedTranscriptSnippet(text='and diplomacy the Morian economy thrived on\\xa0\\nagriculture trade and control of key routes\\xa0\\xa0', start=520.08, duration=6.08), FetchedTranscriptSnippet(text='linking Central Asia the Middle East and South\\xa0\\nAsia the empire reached its zenith under Emperor\\xa0\\xa0', start=526.16, duration=5.44), FetchedTranscriptSnippet(text=\"Ashoka RC 268 to 232 B.CE chandra Gupta's grandson\\xa0\\nwhose reign is considered one of the high points\\xa0\\xa0\", start=531.6, duration=8.24), FetchedTranscriptSnippet(text='of Indian history ashoka initially expanded the\\xa0\\nempire through brutal conquest most famously the\\xa0\\xa0', start=539.84, duration=6.48), FetchedTranscriptSnippet(text='Kinga War which resulted in massive casualties\\xa0\\nand suffering deeply affected by this Ashoka\\xa0\\xa0', start=546.32, duration=7.04), FetchedTranscriptSnippet(text='embraced Buddhism advocating for dharma moral\\xa0\\nlaw non-violence and welfare for his subjects\\xa0\\xa0', start=553.36, duration=6.56), FetchedTranscriptSnippet(text='he propagated his ideals through edicts inscribed\\xa0\\non pillars and rocks across the empire in multiple\\xa0\\xa0', start=559.92, duration=5.52), FetchedTranscriptSnippet(text='languages and scripts these edicts promoted\\xa0\\nethical governance religious tolerance and\\xa0\\xa0', start=565.44, duration=5.76), FetchedTranscriptSnippet(text='compassion towards all living beings reflecting\\xa0\\na unique blend of spirituality and statecraft\\xa0\\xa0', start=571.2, duration=6.16), FetchedTranscriptSnippet(text=\"ashoka's support helped Buddhism spread across\\xa0\\nAsia leaving a lasting religious and cultural\\xa0\\xa0\", start=577.36, duration=5.28), FetchedTranscriptSnippet(text=\"legacy the Maria Empire's decline began after\\xa0\\nAshoka's death due to weak successors in regional\\xa0\\xa0\", start=582.64, duration=5.68), FetchedTranscriptSnippet(text='revolts but its achievements in unification\\xa0\\nadministration and culture set a precedent\\xa0\\xa0', start=588.32, duration=4.96), FetchedTranscriptSnippet(text='for future Indian empires following centuries of\\xa0\\npolitical fragmentation after the Morius the Gupta\\xa0\\xa0', start=593.28, duration=5.84), FetchedTranscriptSnippet(text='Empire emerged as a beacon of cultural renaissance\\xa0\\nand political stability often described as the\\xa0\\xa0', start=599.12, duration=5.68), FetchedTranscriptSnippet(text='golden age of India founded by Chandra Gupta\\xa0\\nFurst the Guptas consolidated northern India and\\xa0\\xa0', start=604.8, duration=6.88), FetchedTranscriptSnippet(text='fostered a flourishing of arts science religion\\xa0\\nand literature mathematics saw revolutionary\\xa0\\xa0', start=611.68, duration=5.84), FetchedTranscriptSnippet(text='advances during this period including the\\xa0\\nconceptualization of zero as a number and\\xa0\\xa0', start=617.52, duration=4.64), FetchedTranscriptSnippet(text='the decimal system which later revolutionized\\xa0\\nglobal mathematics the astronomer Aryabhata made\\xa0\\xa0', start=622.16, duration=6.72), FetchedTranscriptSnippet(text='groundbreaking discoveries about the solar\\xa0\\nsystem and physicians like Sushuta advanced\\xa0\\xa0', start=628.88, duration=4.8), FetchedTranscriptSnippet(text='surgical techniques in literature Kalidasa\\xa0\\nstands out as the greatest classical Sanskrit\\xa0\\xa0', start=633.68, duration=5.6), FetchedTranscriptSnippet(text='poet and playwright his works such as Shakunt\\xa0\\nTala blending poetic beauty with philosophical\\xa0\\xa0', start=639.28, duration=6.16), FetchedTranscriptSnippet(text='depth art and architecture flourished too as\\xa0\\nseen in the exquisite cave temples of Ajanta\\xa0\\xa0', start=645.44, duration=5.76), FetchedTranscriptSnippet(text='and Allora which blended Buddhist Hindu and Jane\\xa0\\nmotifs religiously the Gupta period was marked\\xa0\\xa0', start=651.2, duration=7.12), FetchedTranscriptSnippet(text='by harmonious coexistence hinduism experienced\\xa0\\nrevival and elaboration with the worship of Vishnu\\xa0\\xa0', start=658.32, duration=7.04), FetchedTranscriptSnippet(text='and Shiva becoming widespread while Buddhism and\\xa0\\nJanism continued to thrive the Guptas supported\\xa0\\xa0', start=665.36, duration=6.8), FetchedTranscriptSnippet(text=\"all three traditions reflecting a policy of\\xa0\\nreligious tolerance the empire's decline in\\xa0\\xa0\", start=672.16, duration=5.28), FetchedTranscriptSnippet(text='the mid6th century CE was triggered by invasions\\xa0\\nfrom the hunas healites and internal political\\xa0\\xa0', start=677.44, duration=6.64), FetchedTranscriptSnippet(text='instability leading to fragmentation and the\\xa0\\nrise of regional kingdoms nonetheless the Gupta\\xa0\\xa0', start=684.08, duration=6.56), FetchedTranscriptSnippet(text='legacy intellectual achievements religious\\xa0\\ndevelopments and cultural efforesence had\\xa0\\xa0', start=690.64, duration=4.8), FetchedTranscriptSnippet(text='a profound and enduring influence on the Indian\\xa0\\nsubcontinent and beyond while northern India saw\\xa0\\xa0', start=695.44, duration=5.12), FetchedTranscriptSnippet(text='the rise and fall of empires the Dean and southern\\xa0\\npeninsula developed its own vibrant political and\\xa0\\xa0', start=700.56, duration=5.68), FetchedTranscriptSnippet(text='cultural traditions through kingdoms such as\\xa0\\nthe Satavahanas Chola Cheras and Pandias the\\xa0\\xa0', start=706.24, duration=6.08), FetchedTranscriptSnippet(text='Satavahanas seekim 1st century B.CE 3rd century\\xa0\\nCE controlled large swaths of the dean acting as a\\xa0\\xa0', start=712.32, duration=8.64), FetchedTranscriptSnippet(text='bridge between northern and southern cultures they\\xa0\\npromoted trade across the Indian Ocean connecting\\xa0\\xa0', start=720.96, duration=6.24), FetchedTranscriptSnippet(text='India with Southeast Asia the Middle East and East\\xa0\\nAfrica the Cholola dynasty 9th to 13th century\\xa0\\xa0', start=727.2, duration=6.88), FetchedTranscriptSnippet(text='CE in particular became a maritime power with an\\xa0\\nimpressive navy that extended Indian influence to\\xa0\\xa0', start=734.08, duration=6.24), FetchedTranscriptSnippet(text='Sri Lanka Maldes and parts of Southeast Asia their\\xa0\\ncontrol of sea routes facilitated trade cultural\\xa0\\xa0', start=740.32, duration=6.88), FetchedTranscriptSnippet(text='exchange and the spread of Indian art religion\\xa0\\nand governance models overseas architecturally\\xa0\\xa0', start=747.2, duration=6.72), FetchedTranscriptSnippet(text='the southern kingdoms built magnificent temples\\xa0\\nthat remain iconic today the Brihadiswar temple\\xa0\\xa0', start=753.92, duration=6.16), FetchedTranscriptSnippet(text=\"at Tanjavur completed in 1010 CE exemplifies\\xa0\\nthe Chola's architectural genius with towering\\xa0\\xa0\", start=760.08, duration=7.12), FetchedTranscriptSnippet(text='gopurams gateway towers and intricately carved\\xa0\\nsculptures these temples were not just places\\xa0\\xa0', start=767.2, duration=6.56), FetchedTranscriptSnippet(text='of worship but also centers of economic activity\\xa0\\neducation and social life this era also saw the\\xa0\\xa0', start=773.76, duration=6.4), FetchedTranscriptSnippet(text='beginnings of the bakti movement which emphasized\\xa0\\npersonal devotion to gods such as Shiva and Vishnu\\xa0\\xa0', start=780.16, duration=5.68), FetchedTranscriptSnippet(text='over ritualistic orthodoxy poets and saints\\xa0\\nlike Aper Sundar and Alvars composed hymns in\\xa0\\xa0', start=785.84, duration=6.56), FetchedTranscriptSnippet(text='regional languages promoting spiritual equality\\xa0\\nand accessibility this devotional wave profoundly\\xa0\\xa0', start=792.4, duration=6.64), FetchedTranscriptSnippet(text='shaped Indian religious life and helped integrate\\xa0\\ndiverse linguistic and cultural communities\\xa0\\xa0', start=799.04, duration=5.2), FetchedTranscriptSnippet(text='the early medieval period was characterized by the\\xa0\\nfragmentation of political power but a remarkable\\xa0\\xa0', start=804.24, duration=5.44), FetchedTranscriptSnippet(text='cultural integration across regions the once\\xa0\\ndominant imperial structures gave way to regional\\xa0\\xa0', start=809.68, duration=5.76), FetchedTranscriptSnippet(text='kingdoms such as the Rashtrakutas in the Dean\\xa0\\nthe Palas in Bengal and Bihar and the Pratiharas\\xa0\\xa0', start=815.44, duration=6.72), FetchedTranscriptSnippet(text='in northern India the Rashtrakutas 8th through\\xa0\\n10th century CE were known for their patronage\\xa0\\xa0', start=822.16, duration=6.8), FetchedTranscriptSnippet(text=\"of art and architecture especially the rock cut\\xa0\\ntemples of Ura which include some of India's\\xa0\\xa0\", start=828.96, duration=5.84), FetchedTranscriptSnippet(text='most celebrated Buddhist Hindu and Jane cave\\xa0\\ncomplexes they maintained control over important\\xa0\\xa0', start=834.8, duration=5.76), FetchedTranscriptSnippet(text='trade routes and fostered cultural exchange in\\xa0\\neastern India the Pala dynasty 8th 12th century\\xa0\\xa0', start=840.56, duration=5.6), FetchedTranscriptSnippet(text='CE also promoted Buddhism founding great monastic\\xa0\\nuniversities such as Nanda and Vikramashila which\\xa0\\xa0', start=846.16, duration=6.48), FetchedTranscriptSnippet(text='attracted scholars from across Asia this period\\xa0\\nsaw a flourishing of tantric Buddhist and Hindu\\xa0\\xa0', start=852.64, duration=6.0), FetchedTranscriptSnippet(text='traditions marked by esoteric rituals and complex\\xa0\\nsymbolism the Pratiharas in the northwest played\\xa0\\xa0', start=858.64, duration=6.96), FetchedTranscriptSnippet(text=\"a vital role in resisting Arab invasions helping\\xa0\\npreserve the subcontinent's cultural and religious\\xa0\\xa0\", start=865.6, duration=5.92), FetchedTranscriptSnippet(text='identity religiously this era saw the rise of\\xa0\\ntantric traditions within both Hinduism and\\xa0\\xa0', start=871.52, duration=5.52), FetchedTranscriptSnippet(text='Buddhism emphasizing mystical practices and\\xa0\\nesoteric knowledge simultaneously the Bakti\\xa0\\xa0', start=877.04, duration=6.8), FetchedTranscriptSnippet(text='movement gained momentum emphasizing devotion and\\xa0\\nemotional connection to personal deities cutting\\xa0\\xa0', start=883.84, duration=6.08), FetchedTranscriptSnippet(text='across cast and gender barriers parallel to\\xa0\\nBakti the Sufi movement began to take root\\xa0\\xa0', start=889.92, duration=6.4), FetchedTranscriptSnippet(text=\"in northern India sufism's mystical approach to\\xa0\\nIslam its message of love and tolerance appealed\\xa0\\xa0\", start=896.32, duration=7.04), FetchedTranscriptSnippet(text='to many and played a key role in fostering\\xa0\\nreligious synretatism politically fragmented\\xa0\\xa0', start=903.36, duration=4.8), FetchedTranscriptSnippet(text=\"yet culturally vibrant this period laid the\\xa0\\ngroundwork for the medieval Indian civilization's\\xa0\\xa0\", start=908.16, duration=5.2), FetchedTranscriptSnippet(text='pluralistic ethos despite the absence of a single\\xa0\\npolitical power ideas art forms and religious\\xa0\\xa0', start=913.36, duration=7.12), FetchedTranscriptSnippet(text='movements circulated widely contributing\\xa0\\nto a shared yet diverse cultural heritage\\xa0\\xa0', start=920.48, duration=5.36), FetchedTranscriptSnippet(text='the Delhi Sultenate marks a transformative period\\xa0\\nin Indian history introducing Islamic rule that\\xa0\\xa0', start=925.84, duration=6.16), FetchedTranscriptSnippet(text=\"would reshape the subcontinent's political\\xa0\\ncultural and religious landscape established\\xa0\\xa0\", start=932.0, duration=5.6), FetchedTranscriptSnippet(text='in 1206 CE following the defeat of the last\\xa0\\nHindu king of Delhi the Sultanate was ruled\\xa0\\xa0', start=937.6, duration=5.44), FetchedTranscriptSnippet(text='by successive dynasties the Mamluks slave dynasty\\xa0\\nKhalis Touglaks and Lodis each contributing to the\\xa0\\xa0', start=943.04, duration=8.96), FetchedTranscriptSnippet(text='expansion and consolidation of Muslim rule across\\xa0\\nnorthern India the Mamluks laid the foundation by\\xa0\\xa0', start=952.0, duration=5.44), FetchedTranscriptSnippet(text='establishing Delhi as the capital and securing\\xa0\\nterritories in the Gangetic Plains the Kaldi\\xa0\\xa0', start=957.44, duration=5.28), FetchedTranscriptSnippet(text=\"dynasty 1290 to 1320 expanded the empire's reach\\xa0\\ninto the Dean through military campaigns while\\xa0\\xa0\", start=962.72, duration=6.56), FetchedTranscriptSnippet(text='the two Glocks 1320 to 1414 attempted ambitious\\xa0\\nadministrative reforms and ambitious projects\\xa0\\xa0', start=969.28, duration=7.04), FetchedTranscriptSnippet(text='though often hampered by rebellions and famine\\xa0\\nthe Sultanate introduced Persian culture language\\xa0\\xa0', start=976.32, duration=5.12), FetchedTranscriptSnippet(text='and administrative institutions to India persian\\xa0\\nbecame the court language and Islamic law Sharia\\xa0\\xa0', start=981.44, duration=7.28), FetchedTranscriptSnippet(text='influenced governance though rulers often adapted\\xa0\\npolicies to suit the diverse religious landscape\\xa0\\xa0', start=988.72, duration=6.32), FetchedTranscriptSnippet(text='the introduction of new architectural styles\\xa0\\nblending Islamic and indigenous elements\\xa0\\xa0', start=995.04, duration=5.44), FetchedTranscriptSnippet(text='produced iconic monuments like the Cutub Minor a\\xa0\\ntowering victory tower and the Ali Darwaza Gateway\\xa0\\xa0', start=1000.48, duration=6.96), FetchedTranscriptSnippet(text='exemplifying Indo-Islamic architecture religious\\xa0\\ndynamics during this period were complex while\\xa0\\xa0', start=1007.44, duration=6.16), FetchedTranscriptSnippet(text='political power rested with Muslim sultans the\\xa0\\nmajority Hindu population continued to practice\\xa0\\xa0', start=1013.6, duration=5.2), FetchedTranscriptSnippet(text='their faith sufi saints with their messages\\xa0\\nof love and tolerance played a crucial role\\xa0\\xa0', start=1018.8, duration=5.76), FetchedTranscriptSnippet(text='in bridging communities simultaneously the\\xa0\\nbakti movement led by poets like Kabir and\\xa0\\xa0', start=1024.56, duration=6.4), FetchedTranscriptSnippet(text='Mirabi emerged among Hindus emphasizing\\xa0\\npersonal devotion and social reform often\\xa0\\xa0', start=1030.96, duration=5.52), FetchedTranscriptSnippet(text='critiquing cast discrimination and ritualism\\xa0\\nadministratively the sultenate established a\\xa0\\xa0', start=1036.48, duration=5.28), FetchedTranscriptSnippet(text='centralized bureaucracy and a military system\\xa0\\nthat incorporated cavalry and war elephants\\xa0\\xa0', start=1041.76, duration=5.68), FetchedTranscriptSnippet(text='land revenue systems like the IQTA system\\xa0\\nredistributed land for military service shaping\\xa0\\xa0', start=1047.44, duration=5.28), FetchedTranscriptSnippet(text='agrarian relations though periodically weakened\\xa0\\nby internal strife and external invasions such as\\xa0\\xa0', start=1052.72, duration=6.0), FetchedTranscriptSnippet(text='the Mongol threats the Delhi Sultanate laid the\\xa0\\ngroundwork for later Muslim empires especially\\xa0\\xa0', start=1058.72, duration=5.28), FetchedTranscriptSnippet(text='the Mughals influencing Indian culture and\\xa0\\npolity deeply the Mughal Empire founded by\\xa0\\xa0', start=1064.0, duration=5.84), FetchedTranscriptSnippet(text='Babour in 1526 after his decisive victory at\\xa0\\nthe first battle of Panipot ushered in a new\\xa0\\xa0', start=1069.84, duration=6.32), FetchedTranscriptSnippet(text='era of imperial grandeur and cultural synthesis\\xa0\\nbabour a descendant of Timur and Genghaskhan\\xa0\\xa0', start=1076.16, duration=6.8), FetchedTranscriptSnippet(text='combined central Asian military tactics with\\xa0\\nIndian political realities to establish a\\xa0\\xa0', start=1082.96, duration=4.8), FetchedTranscriptSnippet(text='dynasty that would dominate much of South Asia\\xa0\\nfor nearly two centuries the empire reached its\\xa0\\xa0', start=1087.76, duration=6.16), FetchedTranscriptSnippet(text='zenith under emperor Akbar alitritzer 1556605\\xa0\\nrenowned for his visionary policies of religious\\xa0\\xa0', start=1093.92, duration=7.68), FetchedTranscriptSnippet(text=\"tolerance and administrative innovation akbar's\\xa0\\ncourt was notable for its inclusion of diverse\\xa0\\xa0\", start=1101.6, duration=5.68), FetchedTranscriptSnippet(text='religious leaders and scholars and he developed\\xa0\\nthe concept of dini a syncratic faith aiming to\\xa0\\xa0', start=1107.28, duration=6.24), FetchedTranscriptSnippet(text='transcend religious divisions his reforms in\\xa0\\nland revenue judicial systems and military\\xa0\\xa0', start=1113.52, duration=5.92), FetchedTranscriptSnippet(text='organizations strengthened central authority\\xa0\\nwhile allowing considerable regional autonomy\\xa0\\xa0', start=1119.44, duration=4.56), FetchedTranscriptSnippet(text='under Akbar the Mughal administration implemented\\xa0\\nan efficient manzabari system ranking officials by\\xa0\\xa0', start=1124.0, duration=6.32), FetchedTranscriptSnippet(text=\"military and civil merit which helped maintain a\\xa0\\nlarge and disciplined bureaucracy and army akbar's\\xa0\\xa0\", start=1130.32, duration=6.48), FetchedTranscriptSnippet(text='patronage also extended to arts and architecture\\xa0\\nsupporting Persian and Indian artists alike\\xa0\\xa0', start=1136.8, duration=6.24), FetchedTranscriptSnippet(text=\"following Akbar emperors like Jahangeir and Shah\\xa0\\nJahan continued the cultural flowering jahanir's\\xa0\\xa0\", start=1143.04, duration=6.88), FetchedTranscriptSnippet(text=\"court was famous for its refined painting style\\xa0\\nand garden architecture shah Jahan's reign is\\xa0\\xa0\", start=1149.92, duration=5.52), FetchedTranscriptSnippet(text='immortalized by the construction of the Taj Mahal\\xa0\\na monumental mausoleum symbolizing both imperial\\xa0\\xa0', start=1155.44, duration=5.76), FetchedTranscriptSnippet(text='power and artistic achievement blending Persian\\xa0\\nIndian and Islamic architectural styles however\\xa0\\xa0', start=1161.2, duration=6.0), FetchedTranscriptSnippet(text=\"the empire's zenith gave way to challenges under\\xa0\\nOrurangzeb 1658-707 his strict religious orthodoxy\\xa0\\xa0\", start=1167.2, duration=8.08), FetchedTranscriptSnippet(text=\"reversed many of Akbar's policies of tolerance\\xa0\\nimposing Sharia based laws and reintroducing the\\xa0\\xa0\", start=1175.28, duration=5.2), FetchedTranscriptSnippet(text=\"Jiz attacks on non-Muslims arangzb's long military\\xa0\\ncampaigns in the Dean drained the empire's\\xa0\\xa0\", start=1180.48, duration=6.08), FetchedTranscriptSnippet(text='resources and ignited resistance from emerging\\xa0\\nregional powers such as the Marathas and Sikhs\\xa0\\xa0', start=1186.56, duration=5.68), FetchedTranscriptSnippet(text='despite these internal challenges the Mughal\\xa0\\nEmpire profoundly shaped Indian culture it\\xa0\\xa0', start=1192.24, duration=5.28), FetchedTranscriptSnippet(text='fostered the evolution of the Udu language a blend\\xa0\\nof Persian Arabic and local dialects enriched\\xa0\\xa0', start=1197.52, duration=6.48), FetchedTranscriptSnippet(text='cuisine with Mughalai dishes and influenced\\xa0\\nmusic and dance mughal art and architecture set\\xa0\\xa0', start=1204.0, duration=5.84), FetchedTranscriptSnippet(text=\"standards of refinement that continued to inspire\\xa0\\nthe empire's decline after Orurange was marked\\xa0\\xa0\", start=1209.84, duration=5.2), FetchedTranscriptSnippet(text='by fragmentation as regional states asserted\\xa0\\nindependence yet the Mughal legacy remained\\xa0\\xa0', start=1215.04, duration=5.12), FetchedTranscriptSnippet(text='an indelible part of the Indian historical\\xa0\\nfabric influencing governance culture and\\xa0\\xa0', start=1220.16, duration=5.12), FetchedTranscriptSnippet(text='identity following the decline of centralized\\xa0\\nMughal authority India witnessed the rise of\\xa0\\xa0', start=1225.28, duration=5.52), FetchedTranscriptSnippet(text='powerful regional entities the Marathas in western\\xa0\\nIndia under leaders like Shivaji established a\\xa0\\xa0', start=1230.8, duration=7.2), FetchedTranscriptSnippet(text='resilient confederacy challenging Mughal supremacy\\xa0\\nthe Sikhs led by figures such as Guru Gobin\\xa0\\xa0', start=1238.0, duration=6.72), FetchedTranscriptSnippet(text='Singh consolidated power in the Punjab blending\\xa0\\nreligious and military resistance against external\\xa0\\xa0', start=1244.72, duration=6.16), FetchedTranscriptSnippet(text='domination meanwhile various Naabs regional\\xa0\\ngovernors asserted autonomy in Bengal Awad and\\xa0\\xa0', start=1250.88, duration=7.44), FetchedTranscriptSnippet(text=\"other provinces simultaneously European powers\\xa0\\nintensified their presence along India's coasts\\xa0\\xa0\", start=1258.32, duration=6.88), FetchedTranscriptSnippet(text='the Portuguese had been the earliest to arrive\\xa0\\nfollowed by the Dutch French and British all\\xa0\\xa0', start=1265.2, duration=6.0), FetchedTranscriptSnippet(text='competing for trade dominance the British East\\xa0\\nIndia Company leveraging political instability\\xa0\\xa0', start=1271.2, duration=6.16), FetchedTranscriptSnippet(text='and superior military organization steadily\\xa0\\nexpanded control the pivotal moment came at\\xa0\\xa0', start=1277.36, duration=6.64), FetchedTranscriptSnippet(text='the battle of Placi 1757 where the British\\xa0\\ndefeated the Nawab of Bengal with the aid\\xa0\\xa0', start=1284.0, duration=5.52), FetchedTranscriptSnippet(text='of local collaborators marking the beginning of\\xa0\\nBritish political dominance in India this event\\xa0\\xa0', start=1289.52, duration=6.64), FetchedTranscriptSnippet(text=\"set the stage for the colonial era that would\\xa0\\nprofoundly reshape the subcontinent's future\\xa0\\xa0\", start=1296.16, duration=5.04), FetchedTranscriptSnippet(text='the British East India Company EIC initially a\\xa0\\ntrading enterprise transformed into a powerful\\xa0\\xa0', start=1301.2, duration=6.24), FetchedTranscriptSnippet(text='political force in India following its decisive\\xa0\\nvictory at the battle of Placi in 1757 this battle\\xa0\\xa0', start=1307.44, duration=6.48), FetchedTranscriptSnippet(text='allowed the EIC to install puppet rulers\\xa0\\nin Bengal one of the wealthiest provinces\\xa0\\xa0', start=1313.92, duration=5.44), FetchedTranscriptSnippet(text='laying the foundation for territorial expansion\\xa0\\nthrough military conquest and strategic diplomacy\\xa0\\xa0', start=1319.36, duration=5.76), FetchedTranscriptSnippet(text='over the next century the company expanded its\\xa0\\ncontrol through a mix of warfare such as the Anglo\\xa0\\xa0', start=1325.12, duration=5.52), FetchedTranscriptSnippet(text='Misore Wars and Anglo Maratha wars and alliances\\xa0\\nwith regional powers by the early 19th century the\\xa0\\xa0', start=1330.64, duration=6.96), FetchedTranscriptSnippet(text='EIC governed vast areas of India either directly\\xa0\\nor through subsidiary alliances becoming the de\\xa0\\xa0', start=1337.6, duration=6.48), FetchedTranscriptSnippet(text=\"facto ruler of the subcontinent this expansion\\xa0\\ndeeply impacted India's agriculture and economy\\xa0\\xa0\", start=1344.08, duration=6.0), FetchedTranscriptSnippet(text='traditional systems were disrupted by land\\xa0\\nrevenue policies like the permanent settlement\\xa0\\xa0', start=1350.64, duration=4.0), FetchedTranscriptSnippet(text='in Bengal which fixed taxes but often impoverished\\xa0\\npeasants and empowered landlords the introduction\\xa0\\xa0', start=1354.64, duration=6.08), FetchedTranscriptSnippet(text='of cash crops for export altered farming patterns\\xa0\\nsometimes leading to food shortages economically\\xa0\\xa0', start=1360.72, duration=6.96), FetchedTranscriptSnippet(text='Indian artisans and textiles faced decline due to\\xa0\\nBritish imports triggering de-industrialization in\\xa0\\xa0', start=1367.68, duration=5.76), FetchedTranscriptSnippet(text='some sectors however the British also introduced\\xa0\\nnew infrastructure roads canals and telegraph\\xa0\\xa0', start=1373.44, duration=6.32), FetchedTranscriptSnippet(text=\"lines to facilitate trade and administration the\\xa0\\ncompany's role in education was ambivalent while\\xa0\\xa0\", start=1379.76, duration=6.56), FetchedTranscriptSnippet(text='initially uninterested it gradually sponsored\\xa0\\nEnglish language education and missionary schools\\xa0\\xa0', start=1386.32, duration=5.76), FetchedTranscriptSnippet(text='promoting Western ideas but often undermining\\xa0\\nindigenous learning traditions social structures\\xa0\\xa0', start=1392.08, duration=5.44), FetchedTranscriptSnippet(text='were strained as British policies favored certain\\xa0\\ngroups exacerbating cast and religious divides\\xa0\\xa0', start=1397.52, duration=5.28), FetchedTranscriptSnippet(text='tensions culminated in the 1857 revolt also known\\xa0\\nas the first war of Indian independence sparked by\\xa0\\xa0', start=1402.8, duration=7.28), FetchedTranscriptSnippet(text='grievances ranging from military insensitivity\\xa0\\nthe issue of greased cartridges to economic\\xa0\\xa0', start=1410.08, duration=5.76), FetchedTranscriptSnippet(text='exploitation the revolt involved widespread\\xa0\\nuprisings leaders like Mangal Pande a soldier\\xa0\\xa0', start=1415.84, duration=7.04), FetchedTranscriptSnippet(text='who resisted the British and Rani Lakshmi Bai\\xa0\\nof Ji a queen who fiercely defended her kingdom\\xa0\\xa0', start=1422.88, duration=6.56), FetchedTranscriptSnippet(text='became symbols of resistance though ultimately\\xa0\\nsuppressed the revolt exposed the fragility of\\xa0\\xa0', start=1429.44, duration=5.36), FetchedTranscriptSnippet(text='company rule and forced Britain to rethink its\\xa0\\ngovernance strategy in the aftermath of the 1857\\xa0\\xa0', start=1434.8, duration=5.6), FetchedTranscriptSnippet(text='revolt the British crown assumed direct control\\xa0\\nover India ushering in the period known as the\\xa0\\xa0', start=1440.4, duration=5.84), FetchedTranscriptSnippet(text='British Raj the government of India Act 1858\\xa0\\ndissolved the East India Company placing India\\xa0\\xa0', start=1446.24, duration=6.64), FetchedTranscriptSnippet(text='under a viceroy appointed by the British monarch\\xa0\\nthe Raj implemented wide-ranging reforms to\\xa0\\xa0', start=1452.88, duration=5.76), FetchedTranscriptSnippet(text='stabilize and modernize the colony a vast network\\xa0\\nof railways often called the steel arteries of\\xa0\\xa0', start=1458.64, duration=6.56), FetchedTranscriptSnippet(text='India was constructed facilitating troop movements\\xa0\\nand commerce telegraph lines postal services and\\xa0\\xa0', start=1465.2, duration=6.32), FetchedTranscriptSnippet(text='improved roads integrated the vast territory\\xa0\\nindustrialization under the Raj was uneven while\\xa0\\xa0', start=1471.52, duration=6.32), FetchedTranscriptSnippet(text='large-scale industries such as railways and mining\\xa0\\nexpanded indigenous industries struggled against\\xa0\\xa0', start=1477.84, duration=5.76), FetchedTranscriptSnippet(text='British manufactured imports the British employed\\xa0\\na divide and rule policy exacerbating communal\\xa0\\xa0', start=1483.6, duration=7.6), FetchedTranscriptSnippet(text='divisions particularly between Hindus and Muslims\\xa0\\npolicies favoring certain religious or cast groups\\xa0\\xa0', start=1491.2, duration=7.44), FetchedTranscriptSnippet(text='along with separate electorates introduced in\\xa0\\nthe early 20th century sewed seeds of mistrust\\xa0\\xa0', start=1498.64, duration=6.4), FetchedTranscriptSnippet(text='political awareness grew with the formation of\\xa0\\nthe Indian National Congress INC in 1885 which\\xa0\\xa0', start=1505.04, duration=7.28), FetchedTranscriptSnippet(text='began as a forum for moderate elites seeking\\xa0\\nreforms meanwhile the AllIndia Muslim League\\xa0\\xa0', start=1512.32, duration=6.48), FetchedTranscriptSnippet(text='emerged in 1906 initially advocating Muslim\\xa0\\ninterests but later demanding a separate state\\xa0\\xa0', start=1518.8, duration=6.48), FetchedTranscriptSnippet(text='the colonial period also sparked profound social\\xa0\\nreform and a cultural renaissance especially in\\xa0\\xa0', start=1525.28, duration=5.52), FetchedTranscriptSnippet(text='Bengal and other urban centers reformers like\\xa0\\nRaja Ram Mohan Roy advocated against practices\\xa0\\xa0', start=1530.8, duration=6.8), FetchedTranscriptSnippet(text=\"such as sati widow immulation and for women's\\xa0\\neducation laying the groundwork for modern\\xa0\\xa0\", start=1537.6, duration=6.24), FetchedTranscriptSnippet(text='social activism swami Vivecananda brought\\xa0\\nIndian spirituality to global attention at\\xa0\\xa0', start=1543.84, duration=5.76), FetchedTranscriptSnippet(text='the 1893 world parliament of religions in Chicago\\xa0\\nemphasizing the universality of Hindu philosophy\\xa0\\xa0', start=1549.6, duration=6.56), FetchedTranscriptSnippet(text='and the dignity of the individual in Maharashtra\\xa0\\nJotiba Fule and his wife Savvatri Fule pioneered\\xa0\\xa0', start=1556.16, duration=6.72), FetchedTranscriptSnippet(text='efforts against cast discrimination and championed\\xa0\\neducation for marginalized communities and women\\xa0\\xa0', start=1562.88, duration=5.92), FetchedTranscriptSnippet(text='the Bengal Renaissance produced an explosion of\\xa0\\nliterature art and press freedom with figures\\xa0\\xa0', start=1568.8, duration=5.12), FetchedTranscriptSnippet(text='like Rabindranath Tore promoting nationalism\\xa0\\nthrough culture tensions between revivalists\\xa0\\xa0', start=1573.92, duration=5.52), FetchedTranscriptSnippet(text='who sought to preserve traditional Hindu values\\xa0\\nand reformists who pushed for social change shaped\\xa0\\xa0', start=1579.44, duration=5.76), FetchedTranscriptSnippet(text=\"debates on cast gender and religion women's rights\\xa0\\nabolition of untouchability and education became\\xa0\\xa0\", start=1585.2, duration=7.12), FetchedTranscriptSnippet(text='central themes in the struggle to modernize\\xa0\\nIndian society under colonial rule the late\\xa0\\xa0', start=1592.32, duration=4.64), FetchedTranscriptSnippet(text='19th and early 20th centuries witnessed the rise\\xa0\\nof national consciousness and revolutionary fervor\\xa0\\xa0', start=1596.96, duration=6.16), FetchedTranscriptSnippet(text='the Suadeshi movement sparked by the partition of\\xa0\\nBengal in 1905 called for the boycott of British\\xa0\\xa0', start=1603.12, duration=6.32), FetchedTranscriptSnippet(text='goods and the revival of indigenous industries\\xa0\\nthis movement galvanized millions and laid the\\xa0\\xa0', start=1609.44, duration=5.52), FetchedTranscriptSnippet(text='foundation for mass political participation\\xa0\\nalongside constitutional activism a generation\\xa0\\xa0', start=1614.96, duration=6.24), FetchedTranscriptSnippet(text='of revolutionaries embraced more radical means\\xa0\\nfigures like Pagat Singh Chandra Shakar Azad and\\xa0\\xa0', start=1621.2, duration=7.12), FetchedTranscriptSnippet(text='Subas Chandra Bose inspired youth through acts\\xa0\\nof defiance including bombings assassinations\\xa0\\xa0', start=1628.32, duration=6.24), FetchedTranscriptSnippet(text='and armed resistance the Indian press and poetry\\xa0\\nbecame powerful tools for mobilization newspapers\\xa0\\xa0', start=1634.56, duration=7.04), FetchedTranscriptSnippet(text='circulated nationalist ideas while poets like\\xa0\\nAlamaikbal and Srojani Naidu evoked patriotic\\xa0\\xa0', start=1641.6, duration=6.72), FetchedTranscriptSnippet(text='sentiments that crossed linguistic and religious\\xa0\\nboundaries public protests strikes and boycots\\xa0\\xa0', start=1648.32, duration=6.4), FetchedTranscriptSnippet(text='multiplied signaling a new phase in the struggle\\xa0\\nfor independence one involving broad swaths\\xa0\\xa0', start=1654.72, duration=5.84), FetchedTranscriptSnippet(text='of Indian society moandas Karamchand Gandhi\\xa0\\npopularly known as Mahatma Gandhi returned to\\xa0\\xa0', start=1660.56, duration=6.56), FetchedTranscriptSnippet(text='India from South Africa in 1915 bringing with him\\xa0\\na philosophy of non-violent resistance that would\\xa0\\xa0', start=1667.12, duration=6.16), FetchedTranscriptSnippet(text='redefine the Indian freedom struggle and inspire\\xa0\\nglobal movements for civil rights and justice\\xa0\\xa0', start=1673.28, duration=6.0), FetchedTranscriptSnippet(text='in South Africa Gandhi had developed his method\\xa0\\nof satiagraha literally truth force a technique\\xa0\\xa0', start=1679.28, duration=6.8), FetchedTranscriptSnippet(text='of peaceful civil disobedience against unjust\\xa0\\nlaws upon his return he began applying these\\xa0\\xa0', start=1686.08, duration=6.08), FetchedTranscriptSnippet(text='principles to challenge British colonial rule in\\xa0\\nIndia emphasizing the moral power of non-violence\\xa0\\xa0', start=1692.16, duration=5.52), FetchedTranscriptSnippet(text=\"a himsa and the importance of self-reliance\\xa0\\nswadeshi one of Gandhi's most iconic protests\\xa0\\xa0\", start=1697.68, duration=5.92), FetchedTranscriptSnippet(text='was the Dandy March in 1930 a 240 m trek to the\\xa0\\nArabian Sea coast to produce salt in defiance of\\xa0\\xa0', start=1703.6, duration=7.68), FetchedTranscriptSnippet(text='British salt taxes this act galvanized millions\\xa0\\nacross India to join the civil disobedience\\xa0\\xa0', start=1711.28, duration=5.92), FetchedTranscriptSnippet(text='movement breaking laws peacefully and enduring\\xa0\\narrests during World War II Gandhi launched the\\xa0\\xa0', start=1717.2, duration=6.56), FetchedTranscriptSnippet(text='Quit India Movement 1942 demanding an immediate\\xa0\\nend to British rule despite brutal repression\\xa0\\xa0', start=1723.76, duration=7.12), FetchedTranscriptSnippet(text=\"the movement intensified Indian demands for\\xa0\\nindependence gandhi's philosophy extended beyond\\xa0\\xa0\", start=1730.88, duration=6.48), FetchedTranscriptSnippet(text='politics he championed social reforms including\\xa0\\nthe upliftment of the marginalized Harians Dalites\\xa0\\xa0', start=1737.36, duration=7.76), FetchedTranscriptSnippet(text='rural self-sufficiency and religious harmony among\\xa0\\nHindus Muslims and others his global influence\\xa0\\xa0', start=1745.12, duration=6.88), FetchedTranscriptSnippet(text='resonated with leaders like Martin Luther King\\xa0\\nJr Nelson Mandela and the global civil rights\\xa0\\xa0', start=1752.0, duration=5.44), FetchedTranscriptSnippet(text='movement marking him as a universal symbol of\\xa0\\npeaceful resistance while Gandhi was the moral\\xa0\\xa0', start=1757.44, duration=5.52), FetchedTranscriptSnippet(text='compass of the independence movement many other\\xa0\\nleaders played crucial roles subaschandra Bose\\xa0\\xa0', start=1762.96, duration=5.84), FetchedTranscriptSnippet(text=\"a charismatic and militant nationalist rejected\\xa0\\nGandhi's nonviolence he formed the Indian National\\xa0\\xa0\", start=1768.8, duration=6.4), FetchedTranscriptSnippet(text='Army INA with Japanese support during World War\\xa0\\nII aiming to liberate India through armed struggle\\xa0\\xa0', start=1775.2, duration=7.36), FetchedTranscriptSnippet(text='bose remains a symbol of revolutionary zeal and\\xa0\\npatriotism jawahar Lal Neu a close associate of\\xa0\\xa0', start=1782.56, duration=6.88), FetchedTranscriptSnippet(text='Gandhi and the first prime minister of independent\\xa0\\nIndia articulated a vision of a secular socialist\\xa0\\xa0', start=1789.44, duration=5.44), FetchedTranscriptSnippet(text='and democratic India his leadership in the Indian\\xa0\\nNational Congress helped steer India through\\xa0\\xa0', start=1794.88, duration=5.36), FetchedTranscriptSnippet(text='independence and early nation building sardar\\xa0\\nValab Pip Patel known as the iron man of India was\\xa0\\xa0', start=1800.24, duration=6.72), FetchedTranscriptSnippet(text='instrumental in integrating princely states into\\xa0\\nthe Indian union after independence preventing the\\xa0\\xa0', start=1806.96, duration=4.96), FetchedTranscriptSnippet(text='fragmentation of the new nation dr br Ambidkar a\\xa0\\njurist and social reformer championed the rights\\xa0\\xa0', start=1811.92, duration=6.72), FetchedTranscriptSnippet(text=\"of the marginalized elites as the principal\\xa0\\narchitect of the Indian constitution Ambedkar's\\xa0\\xa0\", start=1818.64, duration=5.6), FetchedTranscriptSnippet(text='work institutionalized social justice equality\\xa0\\nand secularism the Muslim League by Muhammad\\xa0\\xa0', start=1824.24, duration=6.24), FetchedTranscriptSnippet(text=\"Ali Jina demanded a separate homeland for Muslims\\xa0\\nculminating in the call for Pakistan the League's\\xa0\\xa0\", start=1830.48, duration=6.88), FetchedTranscriptSnippet(text='political negotiations and mass mobilization\\xa0\\nintensified communal divisions and shaped the\\xa0\\xa0', start=1837.36, duration=4.96), FetchedTranscriptSnippet(text='eventual partition these diverse leaders and\\xa0\\nmovements reflected the complex multifaceted\\xa0\\xa0', start=1842.32, duration=5.68), FetchedTranscriptSnippet(text=\"nature of India's struggle for freedom embodying\\xa0\\ndifferent visions and strategies that together\\xa0\\xa0\", start=1848.0, duration=5.2), FetchedTranscriptSnippet(text=\"shaped the subcontinent's destiny the culmination\\xa0\\nof the freedom struggle was the partition of\\xa0\\xa0\", start=1853.2, duration=5.04), FetchedTranscriptSnippet(text='British India and the creation of two independent\\xa0\\ndominions india and Pakistan on August 15th 1947\\xa0\\xa0', start=1858.24, duration=8.48), FetchedTranscriptSnippet(text='the British government led by Lord Mountbatton\\xa0\\nhastily implemented a plan that divided Punjab\\xa0\\xa0', start=1866.72, duration=5.6), FetchedTranscriptSnippet(text='and Bengal based on religious majorities partition\\xa0\\ntriggered one of the largest mass migrations in\\xa0\\xa0', start=1872.32, duration=6.0), FetchedTranscriptSnippet(text='human history with an estimated 10 to 15 million\\xa0\\npeople crossing borders to join their chosen\\xa0\\xa0', start=1878.32, duration=6.0), FetchedTranscriptSnippet(text='nation the migration was accompanied by horrific\\xa0\\ncommunal violence with estimates of over a million\\xa0\\xa0', start=1884.32, duration=6.4), FetchedTranscriptSnippet(text='deaths widespread displacement and deep-seated\\xa0\\ntrauma families were torn apart and the scars\\xa0\\xa0', start=1890.72, duration=6.16), FetchedTranscriptSnippet(text='of partition have persisted in the political\\xa0\\nand cultural consciousness of both nations\\xa0\\xa0', start=1896.88, duration=4.64), FetchedTranscriptSnippet(text=\"the event profoundly shaped India's policies on\\xa0\\nsecularism refugees and minority rights despite\\xa0\\xa0\", start=1901.52, duration=6.72), FetchedTranscriptSnippet(text=\"the violence India's leaders sought to build a\\xa0\\ndemocratic and pluralistic state embracing the\\xa0\\xa0\", start=1908.24, duration=5.92), FetchedTranscriptSnippet(text='challenges of unity amid diversity the legacy\\xa0\\nof partition remains a powerful reminder of\\xa0\\xa0', start=1914.16, duration=5.52), FetchedTranscriptSnippet(text='the costs of communal division and the resilience\\xa0\\nrequired to forge a nation committed to democracy\\xa0\\xa0', start=1919.68, duration=5.2), FetchedTranscriptSnippet(text='and inclusion following independence in 197 India\\xa0\\nembarked on the monumental task of nation building\\xa0\\xa0', start=1924.88, duration=6.88), FetchedTranscriptSnippet(text='guided by the visionary leaders who framed\\xa0\\nthe constitution of India adopted in 1950\\xa0\\xa0', start=1931.76, duration=5.52), FetchedTranscriptSnippet(text='this constitution established India as a sovereign\\xa0\\nsocialist secular democratic republic enshrining\\xa0\\xa0', start=1937.28, duration=6.24), FetchedTranscriptSnippet(text='fundamental rights and equality before the law it\\xa0\\naimed to unify a diverse population of multiple\\xa0\\xa0', start=1943.52, duration=5.6), FetchedTranscriptSnippet(text=\"languages religions and cultures under a single\\xa0\\ndemocratic framework jawaharlal Neu India's first\\xa0\\xa0\", start=1949.12, duration=6.48), FetchedTranscriptSnippet(text='prime minister championed a vision of Neuvian\\xa0\\nsocialism emphasizing state-led industrialization\\xa0\\xa0', start=1955.6, duration=6.16), FetchedTranscriptSnippet(text='scientific development and economic\\xa0\\nself-sufficiency large public sector enterprises\\xa0\\xa0', start=1961.76, duration=5.28), FetchedTranscriptSnippet(text='and planned economic development became the\\xa0\\ncornerstone of policy aiming to eradicate poverty\\xa0\\xa0', start=1967.04, duration=4.96), FetchedTranscriptSnippet(text='and lay the foundation for a modern economy\\xa0\\nin the global arena India pursued a policy of\\xa0\\xa0', start=1972.0, duration=5.6), FetchedTranscriptSnippet(text='non-alignment during the Cold War refusing\\xa0\\nto align explicitly with either the US-led\\xa0\\xa0', start=1977.6, duration=4.96), FetchedTranscriptSnippet(text='Western block or the Sovietled Eastern block this\\xa0\\nindependent foreign policy sought to promote peace\\xa0\\xa0', start=1982.56, duration=6.0), FetchedTranscriptSnippet(text='and decolonization worldwide domestically India\\xa0\\nundertook the linguistic reorganization of states\\xa0\\xa0', start=1988.56, duration=5.92), FetchedTranscriptSnippet(text='in the 1950s and 1960s recognizing linguistic\\xa0\\nidentities by creating states based largely on\\xa0\\xa0', start=1994.48, duration=6.48), FetchedTranscriptSnippet(text='dominant languages this move helped ease regional\\xa0\\ntensions and fostered a federal system balancing\\xa0\\xa0', start=2000.96, duration=5.92), FetchedTranscriptSnippet(text='unity and diversity despite many challenges\\xa0\\npoverty illiteracy communal tensions the period\\xa0\\xa0', start=2006.88, duration=7.84), FetchedTranscriptSnippet(text=\"laid a strong democratic and institutional\\xa0\\nfoundation for the world's largest democracy\\xa0\\xa0\", start=2014.72, duration=4.96), FetchedTranscriptSnippet(text=\"after Nu's death in 1964 India experienced\\xa0\\nboth political and economic turbulence indira\\xa0\\xa0\", start=2019.68, duration=7.2), FetchedTranscriptSnippet(text='Gandhi his daughter and successor became prime\\xa0\\nminister and navigated a period marked by crisis\\xa0\\xa0', start=2026.88, duration=4.96), FetchedTranscriptSnippet(text=\"and transformation indira's rule saw significant\\xa0\\nachievements such as the green revolution which\\xa0\\xa0\", start=2031.84, duration=6.32), FetchedTranscriptSnippet(text='revolutionized agriculture through high yield\\xa0\\nseeds and irrigation making India self-sufficient\\xa0\\xa0', start=2038.16, duration=5.76), FetchedTranscriptSnippet(text=\"in food grains her leadership during the 1971\\xa0\\nBangladesh Liberation War also elevated India's\\xa0\\xa0\", start=2043.92, duration=7.04), FetchedTranscriptSnippet(text='regional influence however her tenure was marred\\xa0\\nby authoritarian measures notably The Emergency\\xa0\\xa0', start=2050.96, duration=6.4), FetchedTranscriptSnippet(text='1975 to77 when civil liberties were suspended\\xa0\\nopposition suppressed and press censorship imposed\\xa0\\xa0', start=2057.36, duration=8.0), FetchedTranscriptSnippet(text='the Emergency remains a controversial chapter\\xa0\\nreflecting the tension between democracy and\\xa0\\xa0', start=2065.36, duration=4.8), FetchedTranscriptSnippet(text='state power the period also witnessed the rise\\xa0\\nof regional political parties reflecting growing\\xa0\\xa0', start=2070.16, duration=5.84), FetchedTranscriptSnippet(text=\"assertion of local identities and challenging the\\xa0\\nCongress party's dominance leading to increased\\xa0\\xa0\", start=2076.0, duration=4.88), FetchedTranscriptSnippet(text=\"political fragmentation following Indira Gandhi's\\xa0\\nassassination in 1984 her son Rajiv Gandhi became\\xa0\\xa0\", start=2080.88, duration=6.4), FetchedTranscriptSnippet(text='prime minister promoting early economic reforms\\xa0\\nand technological modernization including\\xa0\\xa0', start=2087.28, duration=5.2), FetchedTranscriptSnippet(text='expanding telecommunications and computer\\xa0\\neducation however by the late 1980s India\\xa0\\xa0', start=2092.48, duration=6.48), FetchedTranscriptSnippet(text='faced a severe economic crisis marked by fiscal\\xa0\\ndeficits and balance of payments problems which\\xa0\\xa0', start=2098.96, duration=5.68), FetchedTranscriptSnippet(text='set the stage for major policy shifts the economic\\xa0\\ncrisis of 1991 prompted India to embark on a path\\xa0\\xa0', start=2104.64, duration=6.32), FetchedTranscriptSnippet(text='of liberalization privatization and globalization\\xa0\\nunder finance minister Manohan Singh reforms\\xa0\\xa0', start=2110.96, duration=7.2), FetchedTranscriptSnippet(text='dismantled the license Raj reduced tariffs and\\xa0\\nopened markets to foreign investment triggering\\xa0\\xa0', start=2118.16, duration=6.64), FetchedTranscriptSnippet(text='rapid economic growth and integration into the\\xa0\\nglobal economy this period witnessed the IT boom\\xa0\\xa0', start=2124.8, duration=6.96), FetchedTranscriptSnippet(text='with cities like Bangalore and Hyderabbad emerging\\xa0\\nas global technology hubs fueling urbanization and\\xa0\\xa0', start=2131.76, duration=6.08), FetchedTranscriptSnippet(text='the rise of a new middle class with increased\\xa0\\nconsumption and aspirations politically India\\xa0\\xa0', start=2137.84, duration=5.52), FetchedTranscriptSnippet(text='saw significant shifts the Paratia Janata\\xa0\\nparty BJP rose to prominence with its Hindutva\\xa0\\xa0', start=2143.36, duration=7.04), FetchedTranscriptSnippet(text='ideology emphasizing Hindu cultural nationalism\\xa0\\nreshaping electoral politics and social discourse\\xa0\\xa0', start=2150.4, duration=7.68), FetchedTranscriptSnippet(text=\"simultaneously regional coalitions became key to\\xa0\\ngovernance reflecting India's complex diversity\\xa0\\xa0\", start=2158.08, duration=7.76), FetchedTranscriptSnippet(text='socially India grappled with issues of dite\\xa0\\nrights castbased discrimination and affirmative\\xa0\\xa0', start=2165.84, duration=6.16), FetchedTranscriptSnippet(text=\"action debates environmental protests emerged\\xa0\\nin response to industrialization's ecological\\xa0\\xa0\", start=2172.0, duration=6.08), FetchedTranscriptSnippet(text='impact while digital activism has become\\xa0\\na new frontier for political and social\\xa0\\xa0', start=2178.08, duration=4.8), FetchedTranscriptSnippet(text='engagement especially among youth India today is\\xa0\\na vibrant but complex democracy balancing rapid\\xa0\\xa0', start=2182.88, duration=6.48), FetchedTranscriptSnippet(text='modernization with deep-seated social challenges\\xa0\\nstriving to fulfill its founding ideals amid\\xa0\\xa0', start=2189.36, duration=5.36), FetchedTranscriptSnippet(text=\"global and local pressures india's history is a\\xa0\\nvast intricate tapestry woven from thousands of\\xa0\\xa0\", start=2194.72, duration=5.92), FetchedTranscriptSnippet(text='years of continuous human civilization the story\\xa0\\nof Indian history is not one of abrupt beginnings\\xa0\\xa0', start=2200.64, duration=6.32), FetchedTranscriptSnippet(text='and endings but rather an eternal flow a dynamic\\xa0\\ninteraction between continuity and change unity\\xa0\\xa0', start=2206.96, duration=6.56), FetchedTranscriptSnippet(text='and diversity this unique blend has shaped\\xa0\\na civilization that is both deeply rooted in\\xa0\\xa0', start=2213.52, duration=6.08), FetchedTranscriptSnippet(text=\"ancient traditions and ever evolving through new\\xa0\\nideas peoples and challenges reflecting on India's\\xa0\\xa0\", start=2219.6, duration=6.08), FetchedTranscriptSnippet(text='historical journey one is struck by its remarkable\\xa0\\ncultural and religious pluralism from the urban\\xa0\\xa0', start=2225.68, duration=6.08), FetchedTranscriptSnippet(text='sophistication of the Indis Valley civilization to\\xa0\\nthe spiritual revolutions of Buddhism and Janism\\xa0\\xa0', start=2231.76, duration=5.44), FetchedTranscriptSnippet(text='from the grandeur of empires like the Morius\\xa0\\nand Mughals to the struggles and triumphs of\\xa0\\xa0', start=2237.2, duration=4.8), FetchedTranscriptSnippet(text='colonial resistance indian history is a narrative\\xa0\\nof synthesis and resilience this diversity often\\xa0\\xa0', start=2242.0, duration=7.52), FetchedTranscriptSnippet(text='a source of strength also presents challenges\\xa0\\nin interpreting the past fairly and inclusively\\xa0\\xa0', start=2249.52, duration=6.4), FetchedTranscriptSnippet(text='multiple perspectives regional religious\\xa0\\nlinguistic and social must be acknowledged\\xa0\\xa0', start=2255.92, duration=5.12), FetchedTranscriptSnippet(text=\"to appreciate the full richness of India's\\xa0\\nheritage without oversimplification or exclusion\\xa0\\xa0\", start=2261.04, duration=5.2), FetchedTranscriptSnippet(text='india today embodies the idea of a civilization\\xa0\\nstate where ancient roots coexist with modern\\xa0\\xa0', start=2266.24, duration=5.68), FetchedTranscriptSnippet(text='aspirations its democratic institutions\\xa0\\nconstitutional ideals and pluralistic\\xa0\\xa0', start=2271.92, duration=5.28), FetchedTranscriptSnippet(text='society draw strength from centuries old\\xa0\\nphilosophies of tolerance debate and coexistence\\xa0\\xa0', start=2277.2, duration=5.6), FetchedTranscriptSnippet(text=\"the nation's ongoing efforts to balance\\xa0\\neconomic development with social justice\\xa0\\xa0\", start=2283.44, duration=4.48), FetchedTranscriptSnippet(text='to nurture unity while honoring diversity\\xa0\\nare echoes of its historical experiences\\xa0\\xa0', start=2287.92, duration=5.92), FetchedTranscriptSnippet(text='the lessons from Indian history are profound and\\xa0\\nglobally relevant they remind us that societies\\xa0\\xa0', start=2293.84, duration=5.84), FetchedTranscriptSnippet(text='are not static but constantly shaped by the\\xa0\\ninteractions of ideas peoples and environments\\xa0\\xa0', start=2299.68, duration=5.2), FetchedTranscriptSnippet(text=\"india's story encourages openness to cultural\\xa0\\nexchange the peaceful resolution of differences\\xa0\\xa0\", start=2305.44, duration=5.76), FetchedTranscriptSnippet(text='and the importance of ethical governance as\\xa0\\nIndia continues its journey in the 21st century\\xa0\\xa0', start=2311.2, duration=5.36), FetchedTranscriptSnippet(text='facing new challenges like globalization\\xa0\\ntechnological change and environmental\\xa0\\xa0', start=2316.56, duration=4.4), FetchedTranscriptSnippet(text='sustainability it carries forward a legacy that\\xa0\\nis at once ancient and modern understanding this\\xa0\\xa0', start=2320.96, duration=6.32), FetchedTranscriptSnippet(text=\"legacy fosters appreciation not only for India's\\xa0\\npast but also for its potential role as a bridge\\xa0\\xa0\", start=2327.28, duration=5.6), FetchedTranscriptSnippet(text='between civilizations and a contributor to global\\xa0\\nprogress in essence Indian history is a testament\\xa0\\xa0', start=2332.88, duration=5.68), FetchedTranscriptSnippet(text='to the enduring human spirit an ongoing narrative\\xa0\\nof adaptation creativity and hope it invites us\\xa0\\xa0', start=2338.56, duration=7.6), FetchedTranscriptSnippet(text=\"all to explore learn and engage with one of the\\xa0\\nworld's most vibrant and complex civilizations\\xa0\\xa0\", start=2346.16, duration=5.84), FetchedTranscriptSnippet(text='reminding us that the past is always alive\\xa0\\nwithin the present guiding the path to the future', start=2352.0, duration=5.12)], video_id='TrExLi4Rbqo', language='English', language_code='en', is_generated=False)"
      ]
     },
     "execution_count": 10,
     "metadata": {},
     "output_type": "execute_result"
    }
   ],
   "source": [
    "fetched_transcript"
   ]
  },
  {
   "cell_type": "code",
   "execution_count": 11,
   "id": "66f9a802",
   "metadata": {},
   "outputs": [
    {
     "name": "stdout",
     "output_type": "stream",
     "text": [
      "is India's history just a story of the past or \n",
      "is it the key to understanding one of the world's   greatest and most enduring civilizations journey \n",
      "with us through thousands of years of remarkable   diversity and unity revolutionary ideas and \n",
      "imperial power struggles for freedom and modern   aspirations what makes India's story so unique and \n",
      "how does this ancient legacy shape our present and   future india is not just a country it is a vast \n",
      "living tapestry woven from thousands of years   of human experience from the snowcapped Himalayas \n",
      "in the north to the tropical shores of the Indian   Ocean in the south the Indian subcontinent \n",
      "has been home to some of the world's oldest   and most influential civilizations its story is \n",
      "one of extraordinary depth and diversity marked   by spiritual discovery imperial grandeur foreign \n",
      "invasions cultural synthesis and revolutionary   resistance geographically varied and culturally \n",
      "rich India has nurtured a multitude of languages   faiths philosophies and social systems it is the \n",
      "birthplace of major world religions like Hinduism   Buddhism Jaenism and Sikism and a historic \n",
      "meeting ground for Islam Christianity Judaism and   Zoroastrianism this unique confluence has shaped \n",
      "a society both diverse and resilient capable   of remarkable continuity even amid constant \n",
      "transformation in this documentary we explore   the major chapters of Indian history from ancient \n",
      "civilizations and classical empires to colonial   subjugation the struggle for independence and the \n",
      "challenges and triumphs of a modern democratic   nation each era offers its own insight into the \n",
      "enduring spirit of India long before the rise of   empires and dynasties the Indian subcontinent \n",
      "was home to one of the world's first great   urban civilizations the Indis Valley civilization \n",
      "c 2600 to900 B.CE flourishing across parts of   modern-day Pakistan and northwestern India \n",
      "it spanned over 1,000 settlements with major   urban centers like Harappa Mohenjo Daro and Dolera \n",
      "standing out as remarkable examples of early city   planning and architectural sophistication \n",
      "these cities were marvel of engineering   streets were laid out in precise grids homes were \n",
      "equipped with private wells and bathrooms and a   vast underground drainage system carried waste \n",
      "away technology unrivaled in the ancient world   graneries dockyards and public baths reflected \n",
      "not only architectural prowess but also a   strong administrative structure the uniformity in \n",
      "brick sizes and town layouts suggest centralized   planning and control possibly by a ruling elite or \n",
      "council the economy was based on agriculture craft   production and extensive trade networks seals \n",
      "bearing animal motifs and a still undeciphered   script point to commercial and possibly religious \n",
      "activities goods such as beads ivory and ceramics   were traded with Mesopotamia and other distant \n",
      "regions indicating a robust international   exchange system yet despite its achievements the \n",
      "Indis Valley civilization mysteriously declined   around 1900 B.CE scholars have debated the causes \n",
      "climate change river shifts tectonic activity and   the Aryan migration or invasion theory each \n",
      "remains plausible but unproven the lack of   monumental palaces or identifiable royal graves \n",
      "also puzzles historians as does the complete   disappearance of its written language following \n",
      "the decline of the Indis Valley civilization a new   era began with the arrival and settlement of \n",
      "the Indo-Aryans around 1500 B.CE whether these   groups migrated peacefully into the subcontinent \n",
      "or arrived as part of an invasion remains debated   this Aryan migration invasion theory is one of \n",
      "the most contested topics in South Asian history   genetic linguistic and archaeological evidence \n",
      "continues to be interpreted in varying ways the   early Indo-Arans brought with them Sanskrit \n",
      "a rich oral tradition and a series of texts   known as the Vedas the Rigveda the oldest of these \n",
      "offers a glimpse into a society organized around   pastoral life sacrificial rituals Yajinas and \n",
      "the worship of natural elements like fire Agni   the sea Surya and the sky god Indra these texts \n",
      "form the philosophical and religious backbone of   what would eventually evolve into Hinduism during \n",
      "this vadic age c or 1500 600 B.CE TE society was   organized into varnnas social classes brahmans \n",
      "priests kchatras warriors vishas merchants and   sudras laborers over time this system became more \n",
      "rigid and stratified into jatis casts forming a   complex and enduring social hierarchy by the later \n",
      "vadic period there was a transition from tribal   chieftdoms to kingdoms mahajanapatas and rituals \n",
      "grew more elaborate texts like the upupananishads   emerged emphasizing internal reflection karma \n",
      "dharma and mokia liberation these philosophical   concepts became central to classical Hindu \n",
      "thought the Vadic religion gradually morphed   into classical Hinduism a broad and inclusive \n",
      "system of beliefs rituals and practices it   absorbed local deities embraced diverse paths to \n",
      "salvation devotion knowledge action and supported   a polyentric worldview hinduism's ability to \n",
      "evolve while maintaining continuity with its   Vadic roots remains one of its defining features \n",
      "by the 6th century BCE dissatisfaction with   Vadic ritualism and cast hierarchies led to the \n",
      "emergence of new spiritual movements among them   Janism and Buddhism stood out for their radical \n",
      "departures from the Vadic norm janism founded by   Mahaviraa 5chi 999 to 527 B.CE CE emphasized aimsa \n",
      "nonviolence aestheticism and self-discipline as   the path to spiritual liberation jane philosophy \n",
      "teaches that every soul is potentially divine   but bound by karma which must be shed through \n",
      "ethical living renunciation and truthfulness   jane monks and nuns followed extreme forms of \n",
      "austerity while lay followers maintained ethical   living and supported the monastic community janism \n",
      "rejected the authority of the vadas and the cast   system emphasizing individual responsibility and \n",
      "inner purity buddhism founded by Sedartha Gautama   known as the Buddha c 563483 B.CE also rejected \n",
      "Vadic Orthodoxy born a prince in modern-day   Nepal Sedartha renounced royal life in search of \n",
      "truth and enlightenment after intense meditation   he attained Nirvana and began teaching the four \n",
      "noble truths and the eight-fold path a practical   guide to end suffering and attain liberation \n",
      "buddhism's egalitarian ethics simplicity and   monastic institutions attracted followers across \n",
      "social classes it was patronized by Emperor Ashoka   of the Maria Empire 3rd century B.CE CE who \n",
      "helped spread the religion across Asia from   Sri Lanka to China Korea and Japan through \n",
      "missionaries and inscriptions while Janism   remained influential primarily in western India \n",
      "Buddhism declined in the subcontinent by the 10th   century CE partly due to the revival of devotional \n",
      "Hinduism and the decline of monastic institutions   after invasions however it continued to thrive in \n",
      "East and Southeast Asia these traditions although   numerically smaller today played a critical \n",
      "role in shaping Indian ethical thought art and   religious pluralism their emphasis on non-violence \n",
      "introspection and compassion continues to resonate   in India and across the globe the Moria Empire \n",
      "marks the first large-scale political unification   of much of the Indian subcontinent setting a \n",
      "foundation for imperial governance and cultural   integration founded by Chandra Gupta Murya around \n",
      "321 B.CE CE the empire expanded rapidly conquering   the fragmented kingdoms left in the wake of \n",
      "Alexander the Great's retreat from northwest India   chandra Gupta's reign established a centralized \n",
      "administration based on a complex bureaucracy and   an extensive spy network described vividly in the \n",
      "Arthur Shastra attributed to his adviser Coutilia   Chanakia this treatis laid out guidelines for \n",
      "state craft economic policies military strategy   and diplomacy the Morian economy thrived on \n",
      "agriculture trade and control of key routes   linking Central Asia the Middle East and South \n",
      "Asia the empire reached its zenith under Emperor   Ashoka RC 268 to 232 B.CE chandra Gupta's grandson \n",
      "whose reign is considered one of the high points   of Indian history ashoka initially expanded the \n",
      "empire through brutal conquest most famously the   Kinga War which resulted in massive casualties \n",
      "and suffering deeply affected by this Ashoka   embraced Buddhism advocating for dharma moral \n",
      "law non-violence and welfare for his subjects   he propagated his ideals through edicts inscribed \n",
      "on pillars and rocks across the empire in multiple   languages and scripts these edicts promoted \n",
      "ethical governance religious tolerance and   compassion towards all living beings reflecting \n",
      "a unique blend of spirituality and statecraft   ashoka's support helped Buddhism spread across \n",
      "Asia leaving a lasting religious and cultural   legacy the Maria Empire's decline began after \n",
      "Ashoka's death due to weak successors in regional   revolts but its achievements in unification \n",
      "administration and culture set a precedent   for future Indian empires following centuries of \n",
      "political fragmentation after the Morius the Gupta   Empire emerged as a beacon of cultural renaissance \n",
      "and political stability often described as the   golden age of India founded by Chandra Gupta \n",
      "Furst the Guptas consolidated northern India and   fostered a flourishing of arts science religion \n",
      "and literature mathematics saw revolutionary   advances during this period including the \n",
      "conceptualization of zero as a number and   the decimal system which later revolutionized \n",
      "global mathematics the astronomer Aryabhata made   groundbreaking discoveries about the solar \n",
      "system and physicians like Sushuta advanced   surgical techniques in literature Kalidasa \n",
      "stands out as the greatest classical Sanskrit   poet and playwright his works such as Shakunt \n",
      "Tala blending poetic beauty with philosophical   depth art and architecture flourished too as \n",
      "seen in the exquisite cave temples of Ajanta   and Allora which blended Buddhist Hindu and Jane \n",
      "motifs religiously the Gupta period was marked   by harmonious coexistence hinduism experienced \n",
      "revival and elaboration with the worship of Vishnu   and Shiva becoming widespread while Buddhism and \n",
      "Janism continued to thrive the Guptas supported   all three traditions reflecting a policy of \n",
      "religious tolerance the empire's decline in   the mid6th century CE was triggered by invasions \n",
      "from the hunas healites and internal political   instability leading to fragmentation and the \n",
      "rise of regional kingdoms nonetheless the Gupta   legacy intellectual achievements religious \n",
      "developments and cultural efforesence had   a profound and enduring influence on the Indian \n",
      "subcontinent and beyond while northern India saw   the rise and fall of empires the Dean and southern \n",
      "peninsula developed its own vibrant political and   cultural traditions through kingdoms such as \n",
      "the Satavahanas Chola Cheras and Pandias the   Satavahanas seekim 1st century B.CE 3rd century \n",
      "CE controlled large swaths of the dean acting as a   bridge between northern and southern cultures they \n",
      "promoted trade across the Indian Ocean connecting   India with Southeast Asia the Middle East and East \n",
      "Africa the Cholola dynasty 9th to 13th century   CE in particular became a maritime power with an \n",
      "impressive navy that extended Indian influence to   Sri Lanka Maldes and parts of Southeast Asia their \n",
      "control of sea routes facilitated trade cultural   exchange and the spread of Indian art religion \n",
      "and governance models overseas architecturally   the southern kingdoms built magnificent temples \n",
      "that remain iconic today the Brihadiswar temple   at Tanjavur completed in 1010 CE exemplifies \n",
      "the Chola's architectural genius with towering   gopurams gateway towers and intricately carved \n",
      "sculptures these temples were not just places   of worship but also centers of economic activity \n",
      "education and social life this era also saw the   beginnings of the bakti movement which emphasized \n",
      "personal devotion to gods such as Shiva and Vishnu   over ritualistic orthodoxy poets and saints \n",
      "like Aper Sundar and Alvars composed hymns in   regional languages promoting spiritual equality \n",
      "and accessibility this devotional wave profoundly   shaped Indian religious life and helped integrate \n",
      "diverse linguistic and cultural communities   the early medieval period was characterized by the \n",
      "fragmentation of political power but a remarkable   cultural integration across regions the once \n",
      "dominant imperial structures gave way to regional   kingdoms such as the Rashtrakutas in the Dean \n",
      "the Palas in Bengal and Bihar and the Pratiharas   in northern India the Rashtrakutas 8th through \n",
      "10th century CE were known for their patronage   of art and architecture especially the rock cut \n",
      "temples of Ura which include some of India's   most celebrated Buddhist Hindu and Jane cave \n",
      "complexes they maintained control over important   trade routes and fostered cultural exchange in \n",
      "eastern India the Pala dynasty 8th 12th century   CE also promoted Buddhism founding great monastic \n",
      "universities such as Nanda and Vikramashila which   attracted scholars from across Asia this period \n",
      "saw a flourishing of tantric Buddhist and Hindu   traditions marked by esoteric rituals and complex \n",
      "symbolism the Pratiharas in the northwest played   a vital role in resisting Arab invasions helping \n",
      "preserve the subcontinent's cultural and religious   identity religiously this era saw the rise of \n",
      "tantric traditions within both Hinduism and   Buddhism emphasizing mystical practices and \n",
      "esoteric knowledge simultaneously the Bakti   movement gained momentum emphasizing devotion and \n",
      "emotional connection to personal deities cutting   across cast and gender barriers parallel to \n",
      "Bakti the Sufi movement began to take root   in northern India sufism's mystical approach to \n",
      "Islam its message of love and tolerance appealed   to many and played a key role in fostering \n",
      "religious synretatism politically fragmented   yet culturally vibrant this period laid the \n",
      "groundwork for the medieval Indian civilization's   pluralistic ethos despite the absence of a single \n",
      "political power ideas art forms and religious   movements circulated widely contributing \n",
      "to a shared yet diverse cultural heritage   the Delhi Sultenate marks a transformative period \n",
      "in Indian history introducing Islamic rule that   would reshape the subcontinent's political \n",
      "cultural and religious landscape established   in 1206 CE following the defeat of the last \n",
      "Hindu king of Delhi the Sultanate was ruled   by successive dynasties the Mamluks slave dynasty \n",
      "Khalis Touglaks and Lodis each contributing to the   expansion and consolidation of Muslim rule across \n",
      "northern India the Mamluks laid the foundation by   establishing Delhi as the capital and securing \n",
      "territories in the Gangetic Plains the Kaldi   dynasty 1290 to 1320 expanded the empire's reach \n",
      "into the Dean through military campaigns while   the two Glocks 1320 to 1414 attempted ambitious \n",
      "administrative reforms and ambitious projects   though often hampered by rebellions and famine \n",
      "the Sultanate introduced Persian culture language   and administrative institutions to India persian \n",
      "became the court language and Islamic law Sharia   influenced governance though rulers often adapted \n",
      "policies to suit the diverse religious landscape   the introduction of new architectural styles \n",
      "blending Islamic and indigenous elements   produced iconic monuments like the Cutub Minor a \n",
      "towering victory tower and the Ali Darwaza Gateway   exemplifying Indo-Islamic architecture religious \n",
      "dynamics during this period were complex while   political power rested with Muslim sultans the \n",
      "majority Hindu population continued to practice   their faith sufi saints with their messages \n",
      "of love and tolerance played a crucial role   in bridging communities simultaneously the \n",
      "bakti movement led by poets like Kabir and   Mirabi emerged among Hindus emphasizing \n",
      "personal devotion and social reform often   critiquing cast discrimination and ritualism \n",
      "administratively the sultenate established a   centralized bureaucracy and a military system \n",
      "that incorporated cavalry and war elephants   land revenue systems like the IQTA system \n",
      "redistributed land for military service shaping   agrarian relations though periodically weakened \n",
      "by internal strife and external invasions such as   the Mongol threats the Delhi Sultanate laid the \n",
      "groundwork for later Muslim empires especially   the Mughals influencing Indian culture and \n",
      "polity deeply the Mughal Empire founded by   Babour in 1526 after his decisive victory at \n",
      "the first battle of Panipot ushered in a new   era of imperial grandeur and cultural synthesis \n",
      "babour a descendant of Timur and Genghaskhan   combined central Asian military tactics with \n",
      "Indian political realities to establish a   dynasty that would dominate much of South Asia \n",
      "for nearly two centuries the empire reached its   zenith under emperor Akbar alitritzer 1556605 \n",
      "renowned for his visionary policies of religious   tolerance and administrative innovation akbar's \n",
      "court was notable for its inclusion of diverse   religious leaders and scholars and he developed \n",
      "the concept of dini a syncratic faith aiming to   transcend religious divisions his reforms in \n",
      "land revenue judicial systems and military   organizations strengthened central authority \n",
      "while allowing considerable regional autonomy   under Akbar the Mughal administration implemented \n",
      "an efficient manzabari system ranking officials by   military and civil merit which helped maintain a \n",
      "large and disciplined bureaucracy and army akbar's   patronage also extended to arts and architecture \n",
      "supporting Persian and Indian artists alike   following Akbar emperors like Jahangeir and Shah \n",
      "Jahan continued the cultural flowering jahanir's   court was famous for its refined painting style \n",
      "and garden architecture shah Jahan's reign is   immortalized by the construction of the Taj Mahal \n",
      "a monumental mausoleum symbolizing both imperial   power and artistic achievement blending Persian \n",
      "Indian and Islamic architectural styles however   the empire's zenith gave way to challenges under \n",
      "Orurangzeb 1658-707 his strict religious orthodoxy   reversed many of Akbar's policies of tolerance \n",
      "imposing Sharia based laws and reintroducing the   Jiz attacks on non-Muslims arangzb's long military \n",
      "campaigns in the Dean drained the empire's   resources and ignited resistance from emerging \n",
      "regional powers such as the Marathas and Sikhs   despite these internal challenges the Mughal \n",
      "Empire profoundly shaped Indian culture it   fostered the evolution of the Udu language a blend \n",
      "of Persian Arabic and local dialects enriched   cuisine with Mughalai dishes and influenced \n",
      "music and dance mughal art and architecture set   standards of refinement that continued to inspire \n",
      "the empire's decline after Orurange was marked   by fragmentation as regional states asserted \n",
      "independence yet the Mughal legacy remained   an indelible part of the Indian historical \n",
      "fabric influencing governance culture and   identity following the decline of centralized \n",
      "Mughal authority India witnessed the rise of   powerful regional entities the Marathas in western \n",
      "India under leaders like Shivaji established a   resilient confederacy challenging Mughal supremacy \n",
      "the Sikhs led by figures such as Guru Gobin   Singh consolidated power in the Punjab blending \n",
      "religious and military resistance against external   domination meanwhile various Naabs regional \n",
      "governors asserted autonomy in Bengal Awad and   other provinces simultaneously European powers \n",
      "intensified their presence along India's coasts   the Portuguese had been the earliest to arrive \n",
      "followed by the Dutch French and British all   competing for trade dominance the British East \n",
      "India Company leveraging political instability   and superior military organization steadily \n",
      "expanded control the pivotal moment came at   the battle of Placi 1757 where the British \n",
      "defeated the Nawab of Bengal with the aid   of local collaborators marking the beginning of \n",
      "British political dominance in India this event   set the stage for the colonial era that would \n",
      "profoundly reshape the subcontinent's future   the British East India Company EIC initially a \n",
      "trading enterprise transformed into a powerful   political force in India following its decisive \n",
      "victory at the battle of Placi in 1757 this battle   allowed the EIC to install puppet rulers \n",
      "in Bengal one of the wealthiest provinces   laying the foundation for territorial expansion \n",
      "through military conquest and strategic diplomacy   over the next century the company expanded its \n",
      "control through a mix of warfare such as the Anglo   Misore Wars and Anglo Maratha wars and alliances \n",
      "with regional powers by the early 19th century the   EIC governed vast areas of India either directly \n",
      "or through subsidiary alliances becoming the de   facto ruler of the subcontinent this expansion \n",
      "deeply impacted India's agriculture and economy   traditional systems were disrupted by land \n",
      "revenue policies like the permanent settlement   in Bengal which fixed taxes but often impoverished \n",
      "peasants and empowered landlords the introduction   of cash crops for export altered farming patterns \n",
      "sometimes leading to food shortages economically   Indian artisans and textiles faced decline due to \n",
      "British imports triggering de-industrialization in   some sectors however the British also introduced \n",
      "new infrastructure roads canals and telegraph   lines to facilitate trade and administration the \n",
      "company's role in education was ambivalent while   initially uninterested it gradually sponsored \n",
      "English language education and missionary schools   promoting Western ideas but often undermining \n",
      "indigenous learning traditions social structures   were strained as British policies favored certain \n",
      "groups exacerbating cast and religious divides   tensions culminated in the 1857 revolt also known \n",
      "as the first war of Indian independence sparked by   grievances ranging from military insensitivity \n",
      "the issue of greased cartridges to economic   exploitation the revolt involved widespread \n",
      "uprisings leaders like Mangal Pande a soldier   who resisted the British and Rani Lakshmi Bai \n",
      "of Ji a queen who fiercely defended her kingdom   became symbols of resistance though ultimately \n",
      "suppressed the revolt exposed the fragility of   company rule and forced Britain to rethink its \n",
      "governance strategy in the aftermath of the 1857   revolt the British crown assumed direct control \n",
      "over India ushering in the period known as the   British Raj the government of India Act 1858 \n",
      "dissolved the East India Company placing India   under a viceroy appointed by the British monarch \n",
      "the Raj implemented wide-ranging reforms to   stabilize and modernize the colony a vast network \n",
      "of railways often called the steel arteries of   India was constructed facilitating troop movements \n",
      "and commerce telegraph lines postal services and   improved roads integrated the vast territory \n",
      "industrialization under the Raj was uneven while   large-scale industries such as railways and mining \n",
      "expanded indigenous industries struggled against   British manufactured imports the British employed \n",
      "a divide and rule policy exacerbating communal   divisions particularly between Hindus and Muslims \n",
      "policies favoring certain religious or cast groups   along with separate electorates introduced in \n",
      "the early 20th century sewed seeds of mistrust   political awareness grew with the formation of \n",
      "the Indian National Congress INC in 1885 which   began as a forum for moderate elites seeking \n",
      "reforms meanwhile the AllIndia Muslim League   emerged in 1906 initially advocating Muslim \n",
      "interests but later demanding a separate state   the colonial period also sparked profound social \n",
      "reform and a cultural renaissance especially in   Bengal and other urban centers reformers like \n",
      "Raja Ram Mohan Roy advocated against practices   such as sati widow immulation and for women's \n",
      "education laying the groundwork for modern   social activism swami Vivecananda brought \n",
      "Indian spirituality to global attention at   the 1893 world parliament of religions in Chicago \n",
      "emphasizing the universality of Hindu philosophy   and the dignity of the individual in Maharashtra \n",
      "Jotiba Fule and his wife Savvatri Fule pioneered   efforts against cast discrimination and championed \n",
      "education for marginalized communities and women   the Bengal Renaissance produced an explosion of \n",
      "literature art and press freedom with figures   like Rabindranath Tore promoting nationalism \n",
      "through culture tensions between revivalists   who sought to preserve traditional Hindu values \n",
      "and reformists who pushed for social change shaped   debates on cast gender and religion women's rights \n",
      "abolition of untouchability and education became   central themes in the struggle to modernize \n",
      "Indian society under colonial rule the late   19th and early 20th centuries witnessed the rise \n",
      "of national consciousness and revolutionary fervor   the Suadeshi movement sparked by the partition of \n",
      "Bengal in 1905 called for the boycott of British   goods and the revival of indigenous industries \n",
      "this movement galvanized millions and laid the   foundation for mass political participation \n",
      "alongside constitutional activism a generation   of revolutionaries embraced more radical means \n",
      "figures like Pagat Singh Chandra Shakar Azad and   Subas Chandra Bose inspired youth through acts \n",
      "of defiance including bombings assassinations   and armed resistance the Indian press and poetry \n",
      "became powerful tools for mobilization newspapers   circulated nationalist ideas while poets like \n",
      "Alamaikbal and Srojani Naidu evoked patriotic   sentiments that crossed linguistic and religious \n",
      "boundaries public protests strikes and boycots   multiplied signaling a new phase in the struggle \n",
      "for independence one involving broad swaths   of Indian society moandas Karamchand Gandhi \n",
      "popularly known as Mahatma Gandhi returned to   India from South Africa in 1915 bringing with him \n",
      "a philosophy of non-violent resistance that would   redefine the Indian freedom struggle and inspire \n",
      "global movements for civil rights and justice   in South Africa Gandhi had developed his method \n",
      "of satiagraha literally truth force a technique   of peaceful civil disobedience against unjust \n",
      "laws upon his return he began applying these   principles to challenge British colonial rule in \n",
      "India emphasizing the moral power of non-violence   a himsa and the importance of self-reliance \n",
      "swadeshi one of Gandhi's most iconic protests   was the Dandy March in 1930 a 240 m trek to the \n",
      "Arabian Sea coast to produce salt in defiance of   British salt taxes this act galvanized millions \n",
      "across India to join the civil disobedience   movement breaking laws peacefully and enduring \n",
      "arrests during World War II Gandhi launched the   Quit India Movement 1942 demanding an immediate \n",
      "end to British rule despite brutal repression   the movement intensified Indian demands for \n",
      "independence gandhi's philosophy extended beyond   politics he championed social reforms including \n",
      "the upliftment of the marginalized Harians Dalites   rural self-sufficiency and religious harmony among \n",
      "Hindus Muslims and others his global influence   resonated with leaders like Martin Luther King \n",
      "Jr Nelson Mandela and the global civil rights   movement marking him as a universal symbol of \n",
      "peaceful resistance while Gandhi was the moral   compass of the independence movement many other \n",
      "leaders played crucial roles subaschandra Bose   a charismatic and militant nationalist rejected \n",
      "Gandhi's nonviolence he formed the Indian National   Army INA with Japanese support during World War \n",
      "II aiming to liberate India through armed struggle   bose remains a symbol of revolutionary zeal and \n",
      "patriotism jawahar Lal Neu a close associate of   Gandhi and the first prime minister of independent \n",
      "India articulated a vision of a secular socialist   and democratic India his leadership in the Indian \n",
      "National Congress helped steer India through   independence and early nation building sardar \n",
      "Valab Pip Patel known as the iron man of India was   instrumental in integrating princely states into \n",
      "the Indian union after independence preventing the   fragmentation of the new nation dr br Ambidkar a \n",
      "jurist and social reformer championed the rights   of the marginalized elites as the principal \n",
      "architect of the Indian constitution Ambedkar's   work institutionalized social justice equality \n",
      "and secularism the Muslim League by Muhammad   Ali Jina demanded a separate homeland for Muslims \n",
      "culminating in the call for Pakistan the League's   political negotiations and mass mobilization \n",
      "intensified communal divisions and shaped the   eventual partition these diverse leaders and \n",
      "movements reflected the complex multifaceted   nature of India's struggle for freedom embodying \n",
      "different visions and strategies that together   shaped the subcontinent's destiny the culmination \n",
      "of the freedom struggle was the partition of   British India and the creation of two independent \n",
      "dominions india and Pakistan on August 15th 1947   the British government led by Lord Mountbatton \n",
      "hastily implemented a plan that divided Punjab   and Bengal based on religious majorities partition \n",
      "triggered one of the largest mass migrations in   human history with an estimated 10 to 15 million \n",
      "people crossing borders to join their chosen   nation the migration was accompanied by horrific \n",
      "communal violence with estimates of over a million   deaths widespread displacement and deep-seated \n",
      "trauma families were torn apart and the scars   of partition have persisted in the political \n",
      "and cultural consciousness of both nations   the event profoundly shaped India's policies on \n",
      "secularism refugees and minority rights despite   the violence India's leaders sought to build a \n",
      "democratic and pluralistic state embracing the   challenges of unity amid diversity the legacy \n",
      "of partition remains a powerful reminder of   the costs of communal division and the resilience \n",
      "required to forge a nation committed to democracy   and inclusion following independence in 197 India \n",
      "embarked on the monumental task of nation building   guided by the visionary leaders who framed \n",
      "the constitution of India adopted in 1950   this constitution established India as a sovereign \n",
      "socialist secular democratic republic enshrining   fundamental rights and equality before the law it \n",
      "aimed to unify a diverse population of multiple   languages religions and cultures under a single \n",
      "democratic framework jawaharlal Neu India's first   prime minister championed a vision of Neuvian \n",
      "socialism emphasizing state-led industrialization   scientific development and economic \n",
      "self-sufficiency large public sector enterprises   and planned economic development became the \n",
      "cornerstone of policy aiming to eradicate poverty   and lay the foundation for a modern economy \n",
      "in the global arena India pursued a policy of   non-alignment during the Cold War refusing \n",
      "to align explicitly with either the US-led   Western block or the Sovietled Eastern block this \n",
      "independent foreign policy sought to promote peace   and decolonization worldwide domestically India \n",
      "undertook the linguistic reorganization of states   in the 1950s and 1960s recognizing linguistic \n",
      "identities by creating states based largely on   dominant languages this move helped ease regional \n",
      "tensions and fostered a federal system balancing   unity and diversity despite many challenges \n",
      "poverty illiteracy communal tensions the period   laid a strong democratic and institutional \n",
      "foundation for the world's largest democracy   after Nu's death in 1964 India experienced \n",
      "both political and economic turbulence indira   Gandhi his daughter and successor became prime \n",
      "minister and navigated a period marked by crisis   and transformation indira's rule saw significant \n",
      "achievements such as the green revolution which   revolutionized agriculture through high yield \n",
      "seeds and irrigation making India self-sufficient   in food grains her leadership during the 1971 \n",
      "Bangladesh Liberation War also elevated India's   regional influence however her tenure was marred \n",
      "by authoritarian measures notably The Emergency   1975 to77 when civil liberties were suspended \n",
      "opposition suppressed and press censorship imposed   the Emergency remains a controversial chapter \n",
      "reflecting the tension between democracy and   state power the period also witnessed the rise \n",
      "of regional political parties reflecting growing   assertion of local identities and challenging the \n",
      "Congress party's dominance leading to increased   political fragmentation following Indira Gandhi's \n",
      "assassination in 1984 her son Rajiv Gandhi became   prime minister promoting early economic reforms \n",
      "and technological modernization including   expanding telecommunications and computer \n",
      "education however by the late 1980s India   faced a severe economic crisis marked by fiscal \n",
      "deficits and balance of payments problems which   set the stage for major policy shifts the economic \n",
      "crisis of 1991 prompted India to embark on a path   of liberalization privatization and globalization \n",
      "under finance minister Manohan Singh reforms   dismantled the license Raj reduced tariffs and \n",
      "opened markets to foreign investment triggering   rapid economic growth and integration into the \n",
      "global economy this period witnessed the IT boom   with cities like Bangalore and Hyderabbad emerging \n",
      "as global technology hubs fueling urbanization and   the rise of a new middle class with increased \n",
      "consumption and aspirations politically India   saw significant shifts the Paratia Janata \n",
      "party BJP rose to prominence with its Hindutva   ideology emphasizing Hindu cultural nationalism \n",
      "reshaping electoral politics and social discourse   simultaneously regional coalitions became key to \n",
      "governance reflecting India's complex diversity   socially India grappled with issues of dite \n",
      "rights castbased discrimination and affirmative   action debates environmental protests emerged \n",
      "in response to industrialization's ecological   impact while digital activism has become \n",
      "a new frontier for political and social   engagement especially among youth India today is \n",
      "a vibrant but complex democracy balancing rapid   modernization with deep-seated social challenges \n",
      "striving to fulfill its founding ideals amid   global and local pressures india's history is a \n",
      "vast intricate tapestry woven from thousands of   years of continuous human civilization the story \n",
      "of Indian history is not one of abrupt beginnings   and endings but rather an eternal flow a dynamic \n",
      "interaction between continuity and change unity   and diversity this unique blend has shaped \n",
      "a civilization that is both deeply rooted in   ancient traditions and ever evolving through new \n",
      "ideas peoples and challenges reflecting on India's   historical journey one is struck by its remarkable \n",
      "cultural and religious pluralism from the urban   sophistication of the Indis Valley civilization to \n",
      "the spiritual revolutions of Buddhism and Janism   from the grandeur of empires like the Morius \n",
      "and Mughals to the struggles and triumphs of   colonial resistance indian history is a narrative \n",
      "of synthesis and resilience this diversity often   a source of strength also presents challenges \n",
      "in interpreting the past fairly and inclusively   multiple perspectives regional religious \n",
      "linguistic and social must be acknowledged   to appreciate the full richness of India's \n",
      "heritage without oversimplification or exclusion   india today embodies the idea of a civilization \n",
      "state where ancient roots coexist with modern   aspirations its democratic institutions \n",
      "constitutional ideals and pluralistic   society draw strength from centuries old \n",
      "philosophies of tolerance debate and coexistence   the nation's ongoing efforts to balance \n",
      "economic development with social justice   to nurture unity while honoring diversity \n",
      "are echoes of its historical experiences   the lessons from Indian history are profound and \n",
      "globally relevant they remind us that societies   are not static but constantly shaped by the \n",
      "interactions of ideas peoples and environments   india's story encourages openness to cultural \n",
      "exchange the peaceful resolution of differences   and the importance of ethical governance as \n",
      "India continues its journey in the 21st century   facing new challenges like globalization \n",
      "technological change and environmental   sustainability it carries forward a legacy that \n",
      "is at once ancient and modern understanding this   legacy fosters appreciation not only for India's \n",
      "past but also for its potential role as a bridge   between civilizations and a contributor to global \n",
      "progress in essence Indian history is a testament   to the enduring human spirit an ongoing narrative \n",
      "of adaptation creativity and hope it invites us   all to explore learn and engage with one of the \n",
      "world's most vibrant and complex civilizations   reminding us that the past is always alive \n",
      "within the present guiding the path to the future\n"
     ]
    }
   ],
   "source": [
    "transcript = \" \".join(chunk.text for chunk in fetched_transcript)\n",
    "print(transcript)"
   ]
  },
  {
   "cell_type": "code",
   "execution_count": 13,
   "id": "116d2294",
   "metadata": {},
   "outputs": [],
   "source": [
    "splitter = RecursiveCharacterTextSplitter(chunk_size=1000, chunk_overlap=200)\n",
    "chunks = splitter.create_documents([transcript])"
   ]
  },
  {
   "cell_type": "code",
   "execution_count": 14,
   "id": "25a97cac",
   "metadata": {},
   "outputs": [
    {
     "data": {
      "text/plain": [
       "47"
      ]
     },
     "execution_count": 14,
     "metadata": {},
     "output_type": "execute_result"
    }
   ],
   "source": [
    "len(chunks)"
   ]
  },
  {
   "cell_type": "code",
   "execution_count": 15,
   "id": "c1289b18",
   "metadata": {},
   "outputs": [
    {
     "data": {
      "text/plain": [
       "Document(metadata={}, page_content=\"noble truths and the eight-fold path a practical\\xa0\\xa0 guide to end suffering and attain liberation\\xa0\\nbuddhism's egalitarian ethics simplicity and\\xa0\\xa0 monastic institutions attracted followers across\\xa0\\nsocial classes it was patronized by Emperor Ashoka\\xa0\\xa0 of the Maria Empire 3rd century B.CE CE who\\xa0\\nhelped spread the religion across Asia from\\xa0\\xa0 Sri Lanka to China Korea and Japan through\\xa0\\nmissionaries and inscriptions while Janism\\xa0\\xa0 remained influential primarily in western India\\xa0\\nBuddhism declined in the subcontinent by the 10th\\xa0\\xa0 century CE partly due to the revival of devotional\\xa0\\nHinduism and the decline of monastic institutions\\xa0\\xa0 after invasions however it continued to thrive in\\xa0\\nEast and Southeast Asia these traditions although\\xa0\\xa0 numerically smaller today played a critical\\xa0\\nrole in shaping Indian ethical thought art and\\xa0\\xa0 religious pluralism their emphasis on non-violence\\xa0\\nintrospection and compassion continues to resonate\\xa0\\xa0 in India and across the globe the Moria Empire\")"
      ]
     },
     "execution_count": 15,
     "metadata": {},
     "output_type": "execute_result"
    }
   ],
   "source": [
    "chunks[8]"
   ]
  },
  {
   "cell_type": "code",
   "execution_count": 17,
   "id": "31768487",
   "metadata": {},
   "outputs": [],
   "source": [
    "# Create embeddings using Hugging Face model\n",
    "embeddings = HuggingFaceEmbeddings(model_name=\"sentence-transformers/all-MiniLM-L6-v2\")\n",
    "\n",
    "\n",
    "# Build the FAISS vector store\n",
    "vector_store = FAISS.from_documents(chunks, embeddings)"
   ]
  },
  {
   "cell_type": "code",
   "execution_count": 18,
   "id": "6cac423a",
   "metadata": {},
   "outputs": [
    {
     "data": {
      "text/plain": [
       "{0: 'e3c8eabc-c8e0-4f9c-a5b2-065f65f2b001',\n",
       " 1: 'eb2886c2-df5b-4991-ada5-cb167b88358e',\n",
       " 2: '54f3878f-da20-4225-ba3d-748a8374802b',\n",
       " 3: '27dec55b-fcd1-4d1e-9f9c-0f6428d0b0b3',\n",
       " 4: '171a95b1-7862-467d-ba80-064f03a03fe9',\n",
       " 5: 'de89ea7c-8aed-40c9-9468-ea7aad5da80a',\n",
       " 6: 'ab4f24b5-59e8-4c44-8966-4ae47305ca3e',\n",
       " 7: 'e8b85be6-c91f-4745-a811-e0d0660e1d4d',\n",
       " 8: '18ca8dd6-af9b-476a-a68c-c4fd1909b4f6',\n",
       " 9: '7eb4ac53-f9a2-4d14-a345-68b8a8f5c012',\n",
       " 10: '53f8861e-89b9-4a4c-a7d8-cc576219ad51',\n",
       " 11: '5edc1bd4-d277-42fb-bf8e-abdc015fac5e',\n",
       " 12: '44ed6091-aabe-4b91-8a3b-4db77d533d28',\n",
       " 13: 'f37c3864-7dd2-4f5b-b486-196c9f3a96be',\n",
       " 14: 'f67a85d8-8df0-47c1-a05c-a364301f396b',\n",
       " 15: '37cda24c-0338-4496-acb5-a73d23a65f2f',\n",
       " 16: '65529b76-76a6-4f56-8998-adc3d706f9ee',\n",
       " 17: '9c0bc8c2-f4d6-43c2-8922-0a342edfda04',\n",
       " 18: '4c5d376b-d74e-4351-bb61-00aee547ff1a',\n",
       " 19: '05e2b5c7-86f5-40c1-868c-73d9f3ce8989',\n",
       " 20: '6057732c-2655-467c-adfe-889dc27409b7',\n",
       " 21: '315ce996-2b62-4bb3-9a94-ffa8367ba22e',\n",
       " 22: 'f6655fb2-6029-4161-9683-df440ee22649',\n",
       " 23: '0b60b137-da85-48cd-8f80-e3d1d0cc171d',\n",
       " 24: '969d29bc-36ea-4080-8ddd-acafe106346b',\n",
       " 25: 'b79d33ec-a894-4e1e-be6e-4ea65f5eb08a',\n",
       " 26: '0ccce364-a3f6-4a0a-b088-eac8249d801d',\n",
       " 27: 'c78308e5-c5ab-4328-8aec-1c2b0ca6c26a',\n",
       " 28: '710df94d-bbec-4ce1-bd4f-92b1a0963a71',\n",
       " 29: 'd4f92db3-2404-4c71-a82b-a367a72a1d96',\n",
       " 30: 'ffdc944e-9c89-4742-a7bb-da174edc0a97',\n",
       " 31: '030519dc-93b4-46a5-a3bc-67c8e1dc4e45',\n",
       " 32: '56b94e85-a589-4578-b344-a8bd97369117',\n",
       " 33: '835d15f4-3900-45c7-8b81-1a42801f2084',\n",
       " 34: '324e2467-b8dd-444b-b3a0-46466f3397ba',\n",
       " 35: '69f9d644-8ba6-49b1-930f-0eb75a7c28f4',\n",
       " 36: '21231b03-1fea-4840-a451-4295dfbb0176',\n",
       " 37: '08ebe721-7b6d-40f4-93c8-a490b615a986',\n",
       " 38: '56386a7b-40db-4123-b5b2-de3f16c1c939',\n",
       " 39: '78400d47-c9f6-46ca-8640-7126c6c54fad',\n",
       " 40: 'bd8ae88b-2ad6-4b6d-ad69-2d782087df21',\n",
       " 41: 'b8c0322d-ec06-4e6a-b8f4-3054a425d8f7',\n",
       " 42: 'ff01aa6c-d121-4ba8-8381-490c0becc43f',\n",
       " 43: '4d70fb07-bf8c-4fd1-afa1-12fd03e5531a',\n",
       " 44: '8eab4dab-c955-427c-87bd-d28937ce3a04',\n",
       " 45: '8ed2a47e-d029-4055-9ec2-bfc9fec2e76e',\n",
       " 46: '494c9fc8-b417-44ae-a471-d6b0079da472',\n",
       " 47: '40e21554-d426-448d-a852-6fd28d2c2fcc',\n",
       " 48: '302e65d0-f314-4fbb-a402-79525d81c91e',\n",
       " 49: 'f772b0b2-c1a4-4a4c-91cc-ff844eecb402',\n",
       " 50: '853b3d72-a1a5-4625-b653-995fda9831f7',\n",
       " 51: '51f716df-565e-4d5a-ade5-eff79ac0e482',\n",
       " 52: '99f5dcdb-5e03-4ad5-bd6f-39b6a78f0817',\n",
       " 53: '8fbbca2b-d7ff-4806-a8e0-a43bcd88f3aa',\n",
       " 54: '38b2738e-8d92-4a97-a1ab-26064b1e9d06',\n",
       " 55: '93adc118-6cd7-425a-a425-3865ced74aae',\n",
       " 56: '24490db0-bd49-45d1-9573-451ec713da6b',\n",
       " 57: '9c47031e-e178-4f58-ac5b-d21c01636eef',\n",
       " 58: 'fd1dbacc-e825-404c-8c66-597bbd9af8e0',\n",
       " 59: 'd1af5c38-98a1-4d71-8b81-b52f9542054b',\n",
       " 60: 'b2e4f057-95e5-4c16-a3d4-e26bde93a091',\n",
       " 61: '976b24ce-bbac-48b4-a53b-8519bb9bf212',\n",
       " 62: '71a00757-ff2f-4c12-8b09-7af585b67272',\n",
       " 63: 'c4e5034b-b0da-4c61-b96c-6b762a60c54a',\n",
       " 64: '1b4825d0-2e3e-479d-8eb0-7b12935783b7',\n",
       " 65: '83fb71d0-65af-4bde-85cb-6fe09d4adbe2',\n",
       " 66: '342aa462-6b24-4d15-a3ec-bbd3b0b94ba8',\n",
       " 67: '9cf82542-5515-44af-9f2c-bf088f52028f',\n",
       " 68: 'b99811b5-0f08-4ef2-9c9e-e8bf630ac5fa',\n",
       " 69: 'de4a87b0-3505-4b27-b98f-41c93d9117a1',\n",
       " 70: '878f0a3d-4160-4b34-b893-877edb5eb23d',\n",
       " 71: '9e9ecd77-830e-427c-87e4-9c82a883f852',\n",
       " 72: '50c962ad-6e12-40e6-b1c9-79612220d902',\n",
       " 73: 'ed109342-acd9-46df-8363-0d40f04f94b1',\n",
       " 74: 'e6d758e2-65a4-4978-b588-b65b1ae27662',\n",
       " 75: '0a13970a-83a5-42c2-981e-861418b12546',\n",
       " 76: 'd6b43dcd-d911-47af-80cd-893ff700a7c5',\n",
       " 77: '3fee6e72-c67d-488e-ad23-d2898510ae73',\n",
       " 78: '344f3bc5-adf8-42ab-a5c1-45d53650d2da',\n",
       " 79: '4a8cd820-d2eb-4b01-bdd5-76e7718821d6',\n",
       " 80: '89f60b8c-2361-4574-a5eb-b5b2863a76d4',\n",
       " 81: '4ec23a99-5b43-4bfd-8aea-d16971733832',\n",
       " 82: 'faa4b414-448e-44bc-b39e-aa785e8a66a3',\n",
       " 83: 'bb114b37-45bd-479f-b72e-2d7c500df3f6',\n",
       " 84: '11b2bb65-5a68-4acb-9a4f-c7b1a70220d4',\n",
       " 85: 'de83de98-74c4-48b5-86c8-1f34ef4f2904',\n",
       " 86: '01740268-3fdf-4536-b067-c49589a6bbef',\n",
       " 87: '8c11b2c4-c20e-4765-a2e6-2905239fd7f0',\n",
       " 88: '7fe33104-54af-41cc-aaca-271b5bd91f37',\n",
       " 89: '6ad03fd2-a49e-4e5c-afe9-52f3ba9850ce',\n",
       " 90: 'dd09d57d-5c53-44c7-8ba0-5e3ad639dd74',\n",
       " 91: '6201f37c-a4af-4b68-a0e4-4b13e2ce627b',\n",
       " 92: 'c7653440-d5d9-4440-8b8f-aed4ae853688',\n",
       " 93: '9d5fc7f5-75ed-46ab-9e6c-761ec6aab75d',\n",
       " 94: 'b7d8ecb7-95e3-4045-8ea9-3956816baf79',\n",
       " 95: '502cdf0f-dd26-44ee-a85e-848dc58e439d',\n",
       " 96: 'aa599d40-1bf8-4741-8920-6c35a8b2497c',\n",
       " 97: '1344a9d2-bbd1-4796-8e22-380193196116',\n",
       " 98: '233c5b64-0722-48e0-b3d4-5dc90b2d2aaf',\n",
       " 99: '2e24fb9f-4878-413c-8d56-64aeab4eca39',\n",
       " 100: '9339f011-8d1b-4364-ac0d-50d8312fc349',\n",
       " 101: '88570a57-09a9-4ab1-8858-406dffe299a6',\n",
       " 102: '5803afaf-c538-4427-b9dc-43891d5085e0',\n",
       " 103: '4c6fdf0e-f6ae-402b-8a2b-596633df417e',\n",
       " 104: 'ca35b6d7-1e74-48ec-a8c2-eb6676b8fe51',\n",
       " 105: 'b666ed06-0280-43f5-80ce-4b041b4e83d8',\n",
       " 106: 'edbceac5-7a67-4543-9744-15e0e706d026',\n",
       " 107: '2a59a5d7-6af8-44f0-9b67-f9e86a256c66',\n",
       " 108: '7c74caca-5868-4d45-bd1a-7321b7f6cecd',\n",
       " 109: '95a26eaf-b051-42ed-ac9f-bf64c3b6961c',\n",
       " 110: 'a737bd7b-78e6-4390-a56a-dd9adb995e81',\n",
       " 111: '7f16ca99-cb01-484c-a7bc-6b9d5a6603b0',\n",
       " 112: '5835c1a9-09a2-4eac-bbb2-16e4170ddbca',\n",
       " 113: 'ddf5f28b-98c3-4a27-b9b1-3f89df56c674',\n",
       " 114: '7245a1ec-4d38-468b-b222-0052e6fa1a4a',\n",
       " 115: '79d8af66-a963-41a8-97f1-b260ef3e5d2d',\n",
       " 116: '4cb309a5-665a-4e2e-9e2a-76fc45273730',\n",
       " 117: '493ab3ba-c6e1-443a-93e3-758479364203',\n",
       " 118: '11cf87f4-5f46-43a3-b8ae-6dd621ccae6b',\n",
       " 119: '6686e66c-5577-4486-9b49-ffc639b0a329',\n",
       " 120: '83b08d41-ef74-4d4b-839b-3930f6210e32',\n",
       " 121: '1b80df14-946a-4834-9de6-f52ba41c756b',\n",
       " 122: '6a3d829a-71f2-4a11-a198-01b02b7c0f75',\n",
       " 123: '2951b6b6-a340-422c-a49f-0e57a7703f28',\n",
       " 124: '506d815c-46b4-4412-a4dc-8c4011adf2e2',\n",
       " 125: '2ed8557c-7aa9-4053-94c7-ac7a31afca3a',\n",
       " 126: '27f764b7-ab3a-4a0b-b1ae-8b9c82c8ba65',\n",
       " 127: '1f841adf-5be0-42d7-8619-3adf6612721f',\n",
       " 128: '926f3803-93ab-41c4-a391-e782cca8b9ad',\n",
       " 129: '47dde12a-514a-42d5-92ca-2a950f35c3c7',\n",
       " 130: 'dfcf7c5a-d5db-4c19-ab47-cfdeebef06a4',\n",
       " 131: '922631fd-cffd-4342-8bae-a029c20d99c3',\n",
       " 132: '0c06acb6-98fb-48cc-a541-4f6d6a0b0669',\n",
       " 133: 'c48ff3c1-9f90-4160-a2a8-faddd48460d1',\n",
       " 134: '6d4beffb-d4cf-482a-8689-6114662fff60',\n",
       " 135: '007bc3c8-4a95-423d-a6c6-4725741b101a',\n",
       " 136: '062b3b59-1b24-4031-8c13-e914895ffd3f',\n",
       " 137: '07aeb63e-a293-4b88-b412-34a29f1018ea',\n",
       " 138: '0fe25a21-b229-4b50-a395-b9ae04ce069e',\n",
       " 139: 'a25db85e-6016-4a0a-8476-086e881cfb3d',\n",
       " 140: 'f1f90d83-05d8-4be5-a0da-b6c0797429c9',\n",
       " 141: '8c2843b6-c17c-437c-9391-7b4e6b84c72f',\n",
       " 142: '691a6b6a-1ad1-46a5-abcf-fd3b1afddeaf',\n",
       " 143: 'a9aad3e9-7090-4503-9571-17683bce10c1',\n",
       " 144: '1d318c55-4491-4e5f-aa1b-eef51c0c4b65',\n",
       " 145: 'f1a93486-4dcc-4048-ab43-0fdcbe4414f8',\n",
       " 146: '7ff907a6-766f-45ca-b740-02b4af431f9f',\n",
       " 147: '9a92b7a1-fa99-47c1-93af-bd33752d0cbe',\n",
       " 148: '713cc7c3-3bb2-4635-ae7b-493b481e09ea',\n",
       " 149: 'd3793284-2f83-458b-8eb3-a5ace7d409aa',\n",
       " 150: '7aa48cc4-ebdd-4dce-8a24-b238549fe45e',\n",
       " 151: '86adecbe-99b8-4893-967b-1e0f5f4e5119',\n",
       " 152: 'd57f37b3-608b-4f13-879b-9e1675eef2ac',\n",
       " 153: '0cbb065d-74ff-48aa-a5ac-8578d9ec2a93',\n",
       " 154: '01a875d5-9c12-4bcb-b359-37c6a3a53328',\n",
       " 155: '1c16d3a9-5083-4a63-a9e5-11f7c2bb6044',\n",
       " 156: 'f1a74184-f1ff-4174-bb42-e96f8a152801',\n",
       " 157: 'fc5b8516-c688-43fa-bf2c-3f3f72fcedee',\n",
       " 158: '9c70a82b-705c-4004-acec-cdad71052ec7',\n",
       " 159: '583f6bb5-23b3-4d86-a20f-d0e23bec1990',\n",
       " 160: '2bff884e-6084-4dd8-b095-4bf15e5883d4',\n",
       " 161: '24b49187-f919-4d2d-afe1-7a9f7cdc568c',\n",
       " 162: '8cee133a-e54b-4732-b6fa-694b92a33fcc',\n",
       " 163: '0dff6a17-daf3-42cc-8548-560e9cf22fcf',\n",
       " 164: 'c071f02b-602e-4920-8307-4dfb29a9ab31',\n",
       " 165: '90ac1fbc-c232-4953-9742-36d71fc6dc31',\n",
       " 166: '753f5749-628e-4851-8275-7962d496f726',\n",
       " 167: '32f5e93b-86ea-4ddb-b485-3f569ad4a456'}"
      ]
     },
     "execution_count": 18,
     "metadata": {},
     "output_type": "execute_result"
    }
   ],
   "source": [
    "vector_store.index_to_docstore_id"
   ]
  },
  {
   "cell_type": "code",
   "execution_count": 18,
   "id": "2884232b",
   "metadata": {},
   "outputs": [
    {
     "data": {
      "text/plain": [
       "[]"
      ]
     },
     "execution_count": 18,
     "metadata": {},
     "output_type": "execute_result"
    }
   ],
   "source": [
    "vector_store.get_by_ids(['753f5749-628e-4851-8275-7962d496f726'])"
   ]
  },
  {
   "cell_type": "code",
   "execution_count": 20,
   "id": "8517762e",
   "metadata": {},
   "outputs": [],
   "source": [
    "retriever = vector_store.as_retriever(search_type=\"similarity\", search_kwargs={\"k\": 4})"
   ]
  },
  {
   "cell_type": "code",
   "execution_count": 21,
   "id": "45bfacc8",
   "metadata": {},
   "outputs": [
    {
     "data": {
      "text/plain": [
       "VectorStoreRetriever(tags=['FAISS', 'HuggingFaceEmbeddings'], vectorstore=<langchain_community.vectorstores.faiss.FAISS object at 0x00000129863907A0>, search_kwargs={'k': 4})"
      ]
     },
     "execution_count": 21,
     "metadata": {},
     "output_type": "execute_result"
    }
   ],
   "source": [
    "retriever"
   ]
  },
  {
   "cell_type": "code",
   "execution_count": 22,
   "id": "47e22dc1",
   "metadata": {},
   "outputs": [
    {
     "data": {
      "text/plain": [
       "[Document(id='1c54460b-d08d-4a8d-a0ea-f6844ebf20fc', metadata={}, page_content=\"under finance minister Manohan Singh reforms\\xa0\\xa0 dismantled the license Raj reduced tariffs and\\xa0\\nopened markets to foreign investment triggering\\xa0\\xa0 rapid economic growth and integration into the\\xa0\\nglobal economy this period witnessed the IT boom\\xa0\\xa0 with cities like Bangalore and Hyderabbad emerging\\xa0\\nas global technology hubs fueling urbanization and\\xa0\\xa0 the rise of a new middle class with increased\\xa0\\nconsumption and aspirations politically India\\xa0\\xa0 saw significant shifts the Paratia Janata\\xa0\\nparty BJP rose to prominence with its Hindutva\\xa0\\xa0 ideology emphasizing Hindu cultural nationalism\\xa0\\nreshaping electoral politics and social discourse\\xa0\\xa0 simultaneously regional coalitions became key to\\xa0\\ngovernance reflecting India's complex diversity\\xa0\\xa0 socially India grappled with issues of dite\\xa0\\nrights castbased discrimination and affirmative\\xa0\\xa0 action debates environmental protests emerged\\xa0\\nin response to industrialization's ecological\\xa0\\xa0 impact while digital activism has become\"),\n",
       " Document(id='83f06377-8328-4f5c-a18d-1521ed31f05b', metadata={}, page_content=\"rights castbased discrimination and affirmative\\xa0\\xa0 action debates environmental protests emerged\\xa0\\nin response to industrialization's ecological\\xa0\\xa0 impact while digital activism has become\\xa0\\na new frontier for political and social\\xa0\\xa0 engagement especially among youth India today is\\xa0\\na vibrant but complex democracy balancing rapid\\xa0\\xa0 modernization with deep-seated social challenges\\xa0\\nstriving to fulfill its founding ideals amid\\xa0\\xa0 global and local pressures india's history is a\\xa0\\nvast intricate tapestry woven from thousands of\\xa0\\xa0 years of continuous human civilization the story\\xa0\\nof Indian history is not one of abrupt beginnings\\xa0\\xa0 and endings but rather an eternal flow a dynamic\\xa0\\ninteraction between continuity and change unity\\xa0\\xa0 and diversity this unique blend has shaped\\xa0\\na civilization that is both deeply rooted in\\xa0\\xa0 ancient traditions and ever evolving through new\\xa0\\nideas peoples and challenges reflecting on India's\\xa0\\xa0 historical journey one is struck by its remarkable\"),\n",
       " Document(id='8b13cac2-0210-439f-b584-e2460373a10e', metadata={}, page_content=\"interests but later demanding a separate state\\xa0\\xa0 the colonial period also sparked profound social\\xa0\\nreform and a cultural renaissance especially in\\xa0\\xa0 Bengal and other urban centers reformers like\\xa0\\nRaja Ram Mohan Roy advocated against practices\\xa0\\xa0 such as sati widow immulation and for women's\\xa0\\neducation laying the groundwork for modern\\xa0\\xa0 social activism swami Vivecananda brought\\xa0\\nIndian spirituality to global attention at\\xa0\\xa0 the 1893 world parliament of religions in Chicago\\xa0\\nemphasizing the universality of Hindu philosophy\\xa0\\xa0 and the dignity of the individual in Maharashtra\\xa0\\nJotiba Fule and his wife Savvatri Fule pioneered\\xa0\\xa0 efforts against cast discrimination and championed\\xa0\\neducation for marginalized communities and women\\xa0\\xa0 the Bengal Renaissance produced an explosion of\\xa0\\nliterature art and press freedom with figures\\xa0\\xa0 like Rabindranath Tore promoting nationalism\\xa0\\nthrough culture tensions between revivalists\\xa0\\xa0 who sought to preserve traditional Hindu values\"),\n",
       " Document(id='38774dc1-9b60-49f9-9e4d-34278bc690b5', metadata={}, page_content=\"literature art and press freedom with figures\\xa0\\xa0 like Rabindranath Tore promoting nationalism\\xa0\\nthrough culture tensions between revivalists\\xa0\\xa0 who sought to preserve traditional Hindu values\\xa0\\nand reformists who pushed for social change shaped\\xa0\\xa0 debates on cast gender and religion women's rights\\xa0\\nabolition of untouchability and education became\\xa0\\xa0 central themes in the struggle to modernize\\xa0\\nIndian society under colonial rule the late\\xa0\\xa0 19th and early 20th centuries witnessed the rise\\xa0\\nof national consciousness and revolutionary fervor\\xa0\\xa0 the Suadeshi movement sparked by the partition of\\xa0\\nBengal in 1905 called for the boycott of British\\xa0\\xa0 goods and the revival of indigenous industries\\xa0\\nthis movement galvanized millions and laid the\\xa0\\xa0 foundation for mass political participation\\xa0\\nalongside constitutional activism a generation\\xa0\\xa0 of revolutionaries embraced more radical means\\xa0\\nfigures like Pagat Singh Chandra Shakar Azad and\\xa0\\xa0 Subas Chandra Bose inspired youth through acts\")]"
      ]
     },
     "execution_count": 22,
     "metadata": {},
     "output_type": "execute_result"
    }
   ],
   "source": [
    "retriever.invoke('What is the main topic of the video?')"
   ]
  },
  {
   "cell_type": "code",
   "execution_count": 23,
   "id": "e017c28a",
   "metadata": {},
   "outputs": [],
   "source": [
    "# Hugging Face LLM\n",
    "llm_x = HuggingFaceEndpoint(\n",
    "    repo_id=\"openai/gpt-oss-120b\",\n",
    "    task=\"text-generation\",\n",
    "    temperature=0.2,\n",
    "    max_new_tokens=512 \n",
    ")\n",
    "llm = ChatHuggingFace(llm=llm_x)"
   ]
  },
  {
   "cell_type": "code",
   "execution_count": 24,
   "id": "bced8340",
   "metadata": {},
   "outputs": [],
   "source": [
    "prompt = PromptTemplate(\n",
    "    template=\"\"\"\n",
    "      You are a helpful assistant.\n",
    "      Answer ONLY from the provided transcript context.\n",
    "      If the context is insufficient, just say you don't know.\n",
    "\n",
    "      {context}\n",
    "      Question: {question}\n",
    "    \"\"\",\n",
    "    input_variables = ['context', 'question']\n",
    ")"
   ]
  },
  {
   "cell_type": "code",
   "execution_count": 25,
   "id": "e911d0a2",
   "metadata": {},
   "outputs": [],
   "source": [
    "question          = \"What is the main topic of the video?\"\n",
    "retrieved_docs    = retriever.invoke(question)"
   ]
  },
  {
   "cell_type": "code",
   "execution_count": 26,
   "id": "faa8cef2",
   "metadata": {},
   "outputs": [
    {
     "data": {
      "text/plain": [
       "[Document(id='1c54460b-d08d-4a8d-a0ea-f6844ebf20fc', metadata={}, page_content=\"under finance minister Manohan Singh reforms\\xa0\\xa0 dismantled the license Raj reduced tariffs and\\xa0\\nopened markets to foreign investment triggering\\xa0\\xa0 rapid economic growth and integration into the\\xa0\\nglobal economy this period witnessed the IT boom\\xa0\\xa0 with cities like Bangalore and Hyderabbad emerging\\xa0\\nas global technology hubs fueling urbanization and\\xa0\\xa0 the rise of a new middle class with increased\\xa0\\nconsumption and aspirations politically India\\xa0\\xa0 saw significant shifts the Paratia Janata\\xa0\\nparty BJP rose to prominence with its Hindutva\\xa0\\xa0 ideology emphasizing Hindu cultural nationalism\\xa0\\nreshaping electoral politics and social discourse\\xa0\\xa0 simultaneously regional coalitions became key to\\xa0\\ngovernance reflecting India's complex diversity\\xa0\\xa0 socially India grappled with issues of dite\\xa0\\nrights castbased discrimination and affirmative\\xa0\\xa0 action debates environmental protests emerged\\xa0\\nin response to industrialization's ecological\\xa0\\xa0 impact while digital activism has become\"),\n",
       " Document(id='83f06377-8328-4f5c-a18d-1521ed31f05b', metadata={}, page_content=\"rights castbased discrimination and affirmative\\xa0\\xa0 action debates environmental protests emerged\\xa0\\nin response to industrialization's ecological\\xa0\\xa0 impact while digital activism has become\\xa0\\na new frontier for political and social\\xa0\\xa0 engagement especially among youth India today is\\xa0\\na vibrant but complex democracy balancing rapid\\xa0\\xa0 modernization with deep-seated social challenges\\xa0\\nstriving to fulfill its founding ideals amid\\xa0\\xa0 global and local pressures india's history is a\\xa0\\nvast intricate tapestry woven from thousands of\\xa0\\xa0 years of continuous human civilization the story\\xa0\\nof Indian history is not one of abrupt beginnings\\xa0\\xa0 and endings but rather an eternal flow a dynamic\\xa0\\ninteraction between continuity and change unity\\xa0\\xa0 and diversity this unique blend has shaped\\xa0\\na civilization that is both deeply rooted in\\xa0\\xa0 ancient traditions and ever evolving through new\\xa0\\nideas peoples and challenges reflecting on India's\\xa0\\xa0 historical journey one is struck by its remarkable\"),\n",
       " Document(id='8b13cac2-0210-439f-b584-e2460373a10e', metadata={}, page_content=\"interests but later demanding a separate state\\xa0\\xa0 the colonial period also sparked profound social\\xa0\\nreform and a cultural renaissance especially in\\xa0\\xa0 Bengal and other urban centers reformers like\\xa0\\nRaja Ram Mohan Roy advocated against practices\\xa0\\xa0 such as sati widow immulation and for women's\\xa0\\neducation laying the groundwork for modern\\xa0\\xa0 social activism swami Vivecananda brought\\xa0\\nIndian spirituality to global attention at\\xa0\\xa0 the 1893 world parliament of religions in Chicago\\xa0\\nemphasizing the universality of Hindu philosophy\\xa0\\xa0 and the dignity of the individual in Maharashtra\\xa0\\nJotiba Fule and his wife Savvatri Fule pioneered\\xa0\\xa0 efforts against cast discrimination and championed\\xa0\\neducation for marginalized communities and women\\xa0\\xa0 the Bengal Renaissance produced an explosion of\\xa0\\nliterature art and press freedom with figures\\xa0\\xa0 like Rabindranath Tore promoting nationalism\\xa0\\nthrough culture tensions between revivalists\\xa0\\xa0 who sought to preserve traditional Hindu values\"),\n",
       " Document(id='38774dc1-9b60-49f9-9e4d-34278bc690b5', metadata={}, page_content=\"literature art and press freedom with figures\\xa0\\xa0 like Rabindranath Tore promoting nationalism\\xa0\\nthrough culture tensions between revivalists\\xa0\\xa0 who sought to preserve traditional Hindu values\\xa0\\nand reformists who pushed for social change shaped\\xa0\\xa0 debates on cast gender and religion women's rights\\xa0\\nabolition of untouchability and education became\\xa0\\xa0 central themes in the struggle to modernize\\xa0\\nIndian society under colonial rule the late\\xa0\\xa0 19th and early 20th centuries witnessed the rise\\xa0\\nof national consciousness and revolutionary fervor\\xa0\\xa0 the Suadeshi movement sparked by the partition of\\xa0\\nBengal in 1905 called for the boycott of British\\xa0\\xa0 goods and the revival of indigenous industries\\xa0\\nthis movement galvanized millions and laid the\\xa0\\xa0 foundation for mass political participation\\xa0\\nalongside constitutional activism a generation\\xa0\\xa0 of revolutionaries embraced more radical means\\xa0\\nfigures like Pagat Singh Chandra Shakar Azad and\\xa0\\xa0 Subas Chandra Bose inspired youth through acts\")]"
      ]
     },
     "execution_count": 26,
     "metadata": {},
     "output_type": "execute_result"
    }
   ],
   "source": [
    "retrieved_docs"
   ]
  },
  {
   "cell_type": "code",
   "execution_count": 27,
   "id": "e5043b94",
   "metadata": {},
   "outputs": [
    {
     "data": {
      "text/plain": [
       "\"under finance minister Manohan Singh reforms\\xa0\\xa0 dismantled the license Raj reduced tariffs and\\xa0\\nopened markets to foreign investment triggering\\xa0\\xa0 rapid economic growth and integration into the\\xa0\\nglobal economy this period witnessed the IT boom\\xa0\\xa0 with cities like Bangalore and Hyderabbad emerging\\xa0\\nas global technology hubs fueling urbanization and\\xa0\\xa0 the rise of a new middle class with increased\\xa0\\nconsumption and aspirations politically India\\xa0\\xa0 saw significant shifts the Paratia Janata\\xa0\\nparty BJP rose to prominence with its Hindutva\\xa0\\xa0 ideology emphasizing Hindu cultural nationalism\\xa0\\nreshaping electoral politics and social discourse\\xa0\\xa0 simultaneously regional coalitions became key to\\xa0\\ngovernance reflecting India's complex diversity\\xa0\\xa0 socially India grappled with issues of dite\\xa0\\nrights castbased discrimination and affirmative\\xa0\\xa0 action debates environmental protests emerged\\xa0\\nin response to industrialization's ecological\\xa0\\xa0 impact while digital activism has become\\n\\nrights castbased discrimination and affirmative\\xa0\\xa0 action debates environmental protests emerged\\xa0\\nin response to industrialization's ecological\\xa0\\xa0 impact while digital activism has become\\xa0\\na new frontier for political and social\\xa0\\xa0 engagement especially among youth India today is\\xa0\\na vibrant but complex democracy balancing rapid\\xa0\\xa0 modernization with deep-seated social challenges\\xa0\\nstriving to fulfill its founding ideals amid\\xa0\\xa0 global and local pressures india's history is a\\xa0\\nvast intricate tapestry woven from thousands of\\xa0\\xa0 years of continuous human civilization the story\\xa0\\nof Indian history is not one of abrupt beginnings\\xa0\\xa0 and endings but rather an eternal flow a dynamic\\xa0\\ninteraction between continuity and change unity\\xa0\\xa0 and diversity this unique blend has shaped\\xa0\\na civilization that is both deeply rooted in\\xa0\\xa0 ancient traditions and ever evolving through new\\xa0\\nideas peoples and challenges reflecting on India's\\xa0\\xa0 historical journey one is struck by its remarkable\\n\\ninterests but later demanding a separate state\\xa0\\xa0 the colonial period also sparked profound social\\xa0\\nreform and a cultural renaissance especially in\\xa0\\xa0 Bengal and other urban centers reformers like\\xa0\\nRaja Ram Mohan Roy advocated against practices\\xa0\\xa0 such as sati widow immulation and for women's\\xa0\\neducation laying the groundwork for modern\\xa0\\xa0 social activism swami Vivecananda brought\\xa0\\nIndian spirituality to global attention at\\xa0\\xa0 the 1893 world parliament of religions in Chicago\\xa0\\nemphasizing the universality of Hindu philosophy\\xa0\\xa0 and the dignity of the individual in Maharashtra\\xa0\\nJotiba Fule and his wife Savvatri Fule pioneered\\xa0\\xa0 efforts against cast discrimination and championed\\xa0\\neducation for marginalized communities and women\\xa0\\xa0 the Bengal Renaissance produced an explosion of\\xa0\\nliterature art and press freedom with figures\\xa0\\xa0 like Rabindranath Tore promoting nationalism\\xa0\\nthrough culture tensions between revivalists\\xa0\\xa0 who sought to preserve traditional Hindu values\\n\\nliterature art and press freedom with figures\\xa0\\xa0 like Rabindranath Tore promoting nationalism\\xa0\\nthrough culture tensions between revivalists\\xa0\\xa0 who sought to preserve traditional Hindu values\\xa0\\nand reformists who pushed for social change shaped\\xa0\\xa0 debates on cast gender and religion women's rights\\xa0\\nabolition of untouchability and education became\\xa0\\xa0 central themes in the struggle to modernize\\xa0\\nIndian society under colonial rule the late\\xa0\\xa0 19th and early 20th centuries witnessed the rise\\xa0\\nof national consciousness and revolutionary fervor\\xa0\\xa0 the Suadeshi movement sparked by the partition of\\xa0\\nBengal in 1905 called for the boycott of British\\xa0\\xa0 goods and the revival of indigenous industries\\xa0\\nthis movement galvanized millions and laid the\\xa0\\xa0 foundation for mass political participation\\xa0\\nalongside constitutional activism a generation\\xa0\\xa0 of revolutionaries embraced more radical means\\xa0\\nfigures like Pagat Singh Chandra Shakar Azad and\\xa0\\xa0 Subas Chandra Bose inspired youth through acts\""
      ]
     },
     "execution_count": 27,
     "metadata": {},
     "output_type": "execute_result"
    }
   ],
   "source": [
    "context_text = \"\\n\\n\".join(doc.page_content for doc in retrieved_docs)\n",
    "context_text"
   ]
  },
  {
   "cell_type": "code",
   "execution_count": 28,
   "id": "39c6212d",
   "metadata": {},
   "outputs": [],
   "source": [
    "final_prompt = prompt.invoke({\"context\": context_text, \"question\": question})"
   ]
  },
  {
   "cell_type": "code",
   "execution_count": 29,
   "id": "7dfba340",
   "metadata": {},
   "outputs": [
    {
     "data": {
      "text/plain": [
       "StringPromptValue(text=\"\\n      You are a helpful assistant.\\n      Answer ONLY from the provided transcript context.\\n      If the context is insufficient, just say you don't know.\\n\\n      under finance minister Manohan Singh reforms\\xa0\\xa0 dismantled the license Raj reduced tariffs and\\xa0\\nopened markets to foreign investment triggering\\xa0\\xa0 rapid economic growth and integration into the\\xa0\\nglobal economy this period witnessed the IT boom\\xa0\\xa0 with cities like Bangalore and Hyderabbad emerging\\xa0\\nas global technology hubs fueling urbanization and\\xa0\\xa0 the rise of a new middle class with increased\\xa0\\nconsumption and aspirations politically India\\xa0\\xa0 saw significant shifts the Paratia Janata\\xa0\\nparty BJP rose to prominence with its Hindutva\\xa0\\xa0 ideology emphasizing Hindu cultural nationalism\\xa0\\nreshaping electoral politics and social discourse\\xa0\\xa0 simultaneously regional coalitions became key to\\xa0\\ngovernance reflecting India's complex diversity\\xa0\\xa0 socially India grappled with issues of dite\\xa0\\nrights castbased discrimination and affirmative\\xa0\\xa0 action debates environmental protests emerged\\xa0\\nin response to industrialization's ecological\\xa0\\xa0 impact while digital activism has become\\n\\nrights castbased discrimination and affirmative\\xa0\\xa0 action debates environmental protests emerged\\xa0\\nin response to industrialization's ecological\\xa0\\xa0 impact while digital activism has become\\xa0\\na new frontier for political and social\\xa0\\xa0 engagement especially among youth India today is\\xa0\\na vibrant but complex democracy balancing rapid\\xa0\\xa0 modernization with deep-seated social challenges\\xa0\\nstriving to fulfill its founding ideals amid\\xa0\\xa0 global and local pressures india's history is a\\xa0\\nvast intricate tapestry woven from thousands of\\xa0\\xa0 years of continuous human civilization the story\\xa0\\nof Indian history is not one of abrupt beginnings\\xa0\\xa0 and endings but rather an eternal flow a dynamic\\xa0\\ninteraction between continuity and change unity\\xa0\\xa0 and diversity this unique blend has shaped\\xa0\\na civilization that is both deeply rooted in\\xa0\\xa0 ancient traditions and ever evolving through new\\xa0\\nideas peoples and challenges reflecting on India's\\xa0\\xa0 historical journey one is struck by its remarkable\\n\\ninterests but later demanding a separate state\\xa0\\xa0 the colonial period also sparked profound social\\xa0\\nreform and a cultural renaissance especially in\\xa0\\xa0 Bengal and other urban centers reformers like\\xa0\\nRaja Ram Mohan Roy advocated against practices\\xa0\\xa0 such as sati widow immulation and for women's\\xa0\\neducation laying the groundwork for modern\\xa0\\xa0 social activism swami Vivecananda brought\\xa0\\nIndian spirituality to global attention at\\xa0\\xa0 the 1893 world parliament of religions in Chicago\\xa0\\nemphasizing the universality of Hindu philosophy\\xa0\\xa0 and the dignity of the individual in Maharashtra\\xa0\\nJotiba Fule and his wife Savvatri Fule pioneered\\xa0\\xa0 efforts against cast discrimination and championed\\xa0\\neducation for marginalized communities and women\\xa0\\xa0 the Bengal Renaissance produced an explosion of\\xa0\\nliterature art and press freedom with figures\\xa0\\xa0 like Rabindranath Tore promoting nationalism\\xa0\\nthrough culture tensions between revivalists\\xa0\\xa0 who sought to preserve traditional Hindu values\\n\\nliterature art and press freedom with figures\\xa0\\xa0 like Rabindranath Tore promoting nationalism\\xa0\\nthrough culture tensions between revivalists\\xa0\\xa0 who sought to preserve traditional Hindu values\\xa0\\nand reformists who pushed for social change shaped\\xa0\\xa0 debates on cast gender and religion women's rights\\xa0\\nabolition of untouchability and education became\\xa0\\xa0 central themes in the struggle to modernize\\xa0\\nIndian society under colonial rule the late\\xa0\\xa0 19th and early 20th centuries witnessed the rise\\xa0\\nof national consciousness and revolutionary fervor\\xa0\\xa0 the Suadeshi movement sparked by the partition of\\xa0\\nBengal in 1905 called for the boycott of British\\xa0\\xa0 goods and the revival of indigenous industries\\xa0\\nthis movement galvanized millions and laid the\\xa0\\xa0 foundation for mass political participation\\xa0\\nalongside constitutional activism a generation\\xa0\\xa0 of revolutionaries embraced more radical means\\xa0\\nfigures like Pagat Singh Chandra Shakar Azad and\\xa0\\xa0 Subas Chandra Bose inspired youth through acts\\n      Question: What is the main topic of the video?\\n    \")"
      ]
     },
     "execution_count": 29,
     "metadata": {},
     "output_type": "execute_result"
    }
   ],
   "source": [
    "final_prompt"
   ]
  },
  {
   "cell_type": "code",
   "execution_count": 30,
   "id": "a6bf5815",
   "metadata": {},
   "outputs": [
    {
     "name": "stdout",
     "output_type": "stream",
     "text": [
      "The video’s main topic is the historical and contemporary evolution of India—covering its economic reforms, political shifts, social changes, and cultural developments that have shaped modern Indian society.\n"
     ]
    }
   ],
   "source": [
    "answer = llm.invoke(final_prompt)\n",
    "print(answer.content)"
   ]
  },
  {
   "cell_type": "code",
   "execution_count": 31,
   "id": "9264b59e",
   "metadata": {},
   "outputs": [],
   "source": [
    "def format_docs(retrieved_docs):\n",
    "  context_text = \"\\n\\n\".join(doc.page_content for doc in retrieved_docs)\n",
    "  return context_text"
   ]
  },
  {
   "cell_type": "code",
   "execution_count": 32,
   "id": "47c6b8fd",
   "metadata": {},
   "outputs": [],
   "source": [
    "parallel_chain = RunnableParallel({\n",
    "    'context': retriever | RunnableLambda(format_docs),\n",
    "    'question': RunnablePassthrough()\n",
    "})"
   ]
  },
  {
   "cell_type": "code",
   "execution_count": 33,
   "id": "04f1abaf",
   "metadata": {},
   "outputs": [
    {
     "data": {
      "text/plain": [
       "{'context': \"away technology unrivaled in the ancient world\\xa0\\xa0 graneries dockyards and public baths reflected\\xa0\\nnot only architectural prowess but also a\\xa0\\xa0 strong administrative structure the uniformity in\\xa0\\nbrick sizes and town layouts suggest centralized\\xa0\\xa0 planning and control possibly by a ruling elite or\\xa0\\ncouncil the economy was based on agriculture craft\\xa0\\xa0 production and extensive trade networks seals\\xa0\\nbearing animal motifs and a still undeciphered\\xa0\\xa0 script point to commercial and possibly religious\\xa0\\nactivities goods such as beads ivory and ceramics\\xa0\\xa0 were traded with Mesopotamia and other distant\\xa0\\nregions indicating a robust international\\xa0\\xa0 exchange system yet despite its achievements the\\xa0\\nIndis Valley civilization mysteriously declined\\xa0\\xa0 around 1900 B.CE scholars have debated the causes\\xa0\\nclimate change river shifts tectonic activity and\\xa0\\xa0 the Aryan migration or invasion theory each\\xa0\\nremains plausible but unproven the lack of\\xa0\\xa0 monumental palaces or identifiable royal graves\\n\\nchallenges and triumphs of a modern democratic\\xa0\\xa0 nation each era offers its own insight into the\\xa0\\nenduring spirit of India long before the rise of\\xa0\\xa0 empires and dynasties the Indian subcontinent\\xa0\\nwas home to one of the world's first great\\xa0\\xa0 urban civilizations the Indis Valley civilization\\xa0\\nc 2600 to900 B.CE flourishing across parts of\\xa0\\xa0 modern-day Pakistan and northwestern India\\xa0\\nit spanned over 1,000 settlements with major\\xa0\\xa0 urban centers like Harappa Mohenjo Daro and Dolera\\xa0\\nstanding out as remarkable examples of early city\\xa0\\xa0 planning and architectural sophistication\\xa0\\nthese cities were marvel of engineering\\xa0\\xa0 streets were laid out in precise grids homes were\\xa0\\nequipped with private wells and bathrooms and a\\xa0\\xa0 vast underground drainage system carried waste\\xa0\\naway technology unrivaled in the ancient world\\xa0\\xa0 graneries dockyards and public baths reflected\\xa0\\nnot only architectural prowess but also a\\xa0\\xa0 strong administrative structure the uniformity in\\n\\nis India's history just a story of the past or\\xa0\\nis it the key to understanding one of the world's\\xa0\\xa0 greatest and most enduring civilizations journey\\xa0\\nwith us through thousands of years of remarkable\\xa0\\xa0 diversity and unity revolutionary ideas and\\xa0\\nimperial power struggles for freedom and modern\\xa0\\xa0 aspirations what makes India's story so unique and\\xa0\\nhow does this ancient legacy shape our present and\\xa0\\xa0 future india is not just a country it is a vast\\xa0\\nliving tapestry woven from thousands of years\\xa0\\xa0 of human experience from the snowcapped Himalayas\\xa0\\nin the north to the tropical shores of the Indian\\xa0\\xa0 Ocean in the south the Indian subcontinent\\xa0\\nhas been home to some of the world's oldest\\xa0\\xa0 and most influential civilizations its story is\\xa0\\none of extraordinary depth and diversity marked\\xa0\\xa0 by spiritual discovery imperial grandeur foreign\\xa0\\ninvasions cultural synthesis and revolutionary\\xa0\\xa0 resistance geographically varied and culturally\\n\\nideas peoples and challenges reflecting on India's\\xa0\\xa0 historical journey one is struck by its remarkable\\xa0\\ncultural and religious pluralism from the urban\\xa0\\xa0 sophistication of the Indis Valley civilization to\\xa0\\nthe spiritual revolutions of Buddhism and Janism\\xa0\\xa0 from the grandeur of empires like the Morius\\xa0\\nand Mughals to the struggles and triumphs of\\xa0\\xa0 colonial resistance indian history is a narrative\\xa0\\nof synthesis and resilience this diversity often\\xa0\\xa0 a source of strength also presents challenges\\xa0\\nin interpreting the past fairly and inclusively\\xa0\\xa0 multiple perspectives regional religious\\xa0\\nlinguistic and social must be acknowledged\\xa0\\xa0 to appreciate the full richness of India's\\xa0\\nheritage without oversimplification or exclusion\\xa0\\xa0 india today embodies the idea of a civilization\\xa0\\nstate where ancient roots coexist with modern\\xa0\\xa0 aspirations its democratic institutions\\xa0\\nconstitutional ideals and pluralistic\\xa0\\xa0 society draw strength from centuries old\",\n",
       " 'question': 'Explain ancient civilization'}"
      ]
     },
     "execution_count": 33,
     "metadata": {},
     "output_type": "execute_result"
    }
   ],
   "source": [
    "parallel_chain.invoke('Explain ancient civilization')"
   ]
  },
  {
   "cell_type": "code",
   "execution_count": 34,
   "id": "1707482b",
   "metadata": {},
   "outputs": [],
   "source": [
    "parser = StrOutputParser()"
   ]
  },
  {
   "cell_type": "code",
   "execution_count": 35,
   "id": "fb668366",
   "metadata": {},
   "outputs": [],
   "source": [
    "main_chain = parallel_chain | prompt | llm | parser"
   ]
  },
  {
   "cell_type": "code",
   "execution_count": 36,
   "id": "6e3445db",
   "metadata": {},
   "outputs": [
    {
     "data": {
      "text/plain": [
       "'The video presents a sweeping overview of India’s historical journey—from ancient civilizations through colonial rule to independence and its aftermath. It highlights key figures such as Mahatma\\u202fGandhi, Jawaharlal\\u202fNehru, Sardar\\u202fPatel, Dr.\\u202fB.R.\\u202fAmbedkar, Subhas\\u202fChandra\\u202fBose, and Muhammad\\u202fAli\\u202fJinnah, illustrating their differing visions of a secular, socialist, and democratic nation.  \\n\\nIt explains how the Indian National Congress and the Muslim League’s demand for a separate Muslim homeland led to the 1947 partition of British India into India and Pakistan, triggering massive migrations, communal violence, and lasting trauma.  \\n\\nThe narrative emphasizes India’s rich cultural and geographic diversity, its legacy of spiritual, imperial, and revolutionary movements, and how this deep‑rooted past continues to shape contemporary Indian policies on secularism, minority rights, and nation‑building. The video concludes by noting the ongoing challenge of forging a unified, democratic, and inclusive nation after independence.'"
      ]
     },
     "execution_count": 36,
     "metadata": {},
     "output_type": "execute_result"
    }
   ],
   "source": [
    "main_chain.invoke('Can you summarize the video')"
   ]
  },
  {
   "cell_type": "code",
   "execution_count": null,
   "id": "5604ba22",
   "metadata": {},
   "outputs": [],
   "source": []
  }
 ],
 "metadata": {
  "kernelspec": {
   "display_name": "venv",
   "language": "python",
   "name": "python3"
  },
  "language_info": {
   "codemirror_mode": {
    "name": "ipython",
    "version": 3
   },
   "file_extension": ".py",
   "mimetype": "text/x-python",
   "name": "python",
   "nbconvert_exporter": "python",
   "pygments_lexer": "ipython3",
   "version": "3.12.7"
  }
 },
 "nbformat": 4,
 "nbformat_minor": 5
}
